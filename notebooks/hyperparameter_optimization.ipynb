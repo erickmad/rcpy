{
 "cells": [
  {
   "cell_type": "markdown",
   "id": "a912a17b",
   "metadata": {},
   "source": []
  },
  {
   "cell_type": "code",
   "execution_count": 6,
   "id": "a9819bb6",
   "metadata": {},
   "outputs": [],
   "source": [
    "import numpy as np\n",
    "import numpy as np\n",
    "from rcpy.data import load_data_rcpy, preprocess_data_rcpy\n",
    "#from rcpy.data import ClimateIndex, load_NOAA_data\n",
    "\n",
    "system = 'ENSO'\n",
    "\n",
    "data_file = '../../master-thesis/DATA/data_enso/ts_nino_1870_2024.csv'\n",
    "#data_file = '../../master-thesis/DATA/data_generated/ts_lorenz_50000.csv'\n",
    "\n",
    "data_raw = load_data_rcpy(data_file=data_file)\n",
    "\n",
    "init_transient = 10\n",
    "transient_length = 50\n",
    "warmup_length = int(data_raw.shape[0] * 0.2)\n",
    "train_length = int(data_raw.shape[0] * 0.8)\n",
    "forecast_length = 50\n",
    "\n",
    "data = preprocess_data_rcpy(\n",
    "    data=data_raw,\n",
    "    init_transient=init_transient,\n",
    "    transient_length=transient_length,\n",
    "    warmup_length=warmup_length,\n",
    "    train_length=train_length,\n",
    "    normalize=True\n",
    ")"
   ]
  },
  {
   "cell_type": "code",
   "execution_count": null,
   "id": "1726ce3b",
   "metadata": {},
   "outputs": [
    {
     "name": "stderr",
     "output_type": "stream",
     "text": [
      "/home/user/miniforge3/envs/krc/lib/python3.10/site-packages/optuna/_experimental.py:31: ExperimentalWarning:\n",
      "\n",
      "Argument ``multivariate`` is an experimental feature. The interface can change in the future.\n",
      "\n",
      "[I 2025-07-21 17:59:20,133] Using an existing study with name 'enso_N1000_rmse_rcpy' instead of creating a new one.\n",
      "[W 2025-07-21 17:59:20,178] The parameter 'spectral_radius' in trial#11 is sampled independently instead of being sampled by multivariate TPE sampler. (optimization performance may be degraded). You can suppress this warning by setting `warn_independent_sampling` to `False` in the constructor of `TPESampler`, if this independent sampling is intended behavior.\n",
      "Running Model-10: 1488it [00:00, 6997.54it/s]<?, ?it/s]\n",
      "Running Model-10: 100%|██████████| 1/1 [00:00<00:00,  4.24it/s]\n"
     ]
    },
    {
     "name": "stdout",
     "output_type": "stream",
     "text": [
      "Fitting node Ridge-10...\n"
     ]
    },
    {
     "name": "stderr",
     "output_type": "stream",
     "text": [
      "Running Model-10: 372it [00:00, 5264.00it/s]           \n",
      "[I 2025-07-21 17:59:20,776] Trial 11 finished with value: 0.10018497517041855 and parameters: {'leak_rate': 0.5405525961373855, 'spectral_radius': 0.642401654894979, 'alpha': 1.350387953047219e-06, 'input_scaling': 0.5233944054868559, 'p': 0.12638798356094566}. Best is trial 11 with value: 0.10018497517041855.\n",
      "[W 2025-07-21 17:59:20,797] The parameter 'spectral_radius' in trial#12 is sampled independently instead of being sampled by multivariate TPE sampler. (optimization performance may be degraded). You can suppress this warning by setting `warn_independent_sampling` to `False` in the constructor of `TPESampler`, if this independent sampling is intended behavior.\n",
      "Running Model-11: 1488it [00:00, 6022.32it/s]<?, ?it/s]\n",
      "Running Model-11: 100%|██████████| 1/1 [00:00<00:00,  3.72it/s]\n"
     ]
    },
    {
     "name": "stdout",
     "output_type": "stream",
     "text": [
      "Fitting node Ridge-11...\n"
     ]
    },
    {
     "name": "stderr",
     "output_type": "stream",
     "text": [
      "Running Model-11: 372it [00:00, 6262.09it/s]           \n",
      "[I 2025-07-21 17:59:21,530] Trial 12 finished with value: 0.10055017163600558 and parameters: {'leak_rate': 0.6918179947594574, 'spectral_radius': 0.49056750050286246, 'alpha': 4.5160419369791307e-07, 'input_scaling': 0.5863928376980225, 'p': 0.22896093387740427}. Best is trial 11 with value: 0.10018497517041855.\n",
      "[W 2025-07-21 17:59:21,550] The parameter 'spectral_radius' in trial#13 is sampled independently instead of being sampled by multivariate TPE sampler. (optimization performance may be degraded). You can suppress this warning by setting `warn_independent_sampling` to `False` in the constructor of `TPESampler`, if this independent sampling is intended behavior.\n",
      "Running Model-12: 1488it [00:00, 3530.74it/s]<?, ?it/s]\n",
      "Running Model-12: 100%|██████████| 1/1 [00:00<00:00,  2.22it/s]\n"
     ]
    },
    {
     "name": "stdout",
     "output_type": "stream",
     "text": [
      "Fitting node Ridge-12...\n"
     ]
    },
    {
     "name": "stderr",
     "output_type": "stream",
     "text": [
      "Running Model-12: 372it [00:00, 3845.96it/s]           \n",
      "[I 2025-07-21 17:59:22,533] Trial 13 finished with value: 0.09301559078262041 and parameters: {'leak_rate': 0.7548763448037493, 'spectral_radius': 0.41603405413218725, 'alpha': 3.4907069173080855e-07, 'input_scaling': 0.7565749743169794, 'p': 0.4355050476402087}. Best is trial 13 with value: 0.09301559078262041.\n",
      "[W 2025-07-21 17:59:22,557] The parameter 'spectral_radius' in trial#14 is sampled independently instead of being sampled by multivariate TPE sampler. (optimization performance may be degraded). You can suppress this warning by setting `warn_independent_sampling` to `False` in the constructor of `TPESampler`, if this independent sampling is intended behavior.\n",
      "Running Model-13: 1488it [00:00, 3443.90it/s]<?, ?it/s]\n",
      "Running Model-13: 100%|██████████| 1/1 [00:00<00:00,  2.23it/s]\n"
     ]
    },
    {
     "name": "stdout",
     "output_type": "stream",
     "text": [
      "Fitting node Ridge-13...\n"
     ]
    },
    {
     "name": "stderr",
     "output_type": "stream",
     "text": [
      "Running Model-13: 372it [00:00, 3259.97it/s]           \n",
      "[I 2025-07-21 17:59:25,448] Trial 14 finished with value: 0.1428451137297594 and parameters: {'leak_rate': 0.8694450980327635, 'spectral_radius': 0.23326818801815524, 'alpha': 1.7357460193389368e-06, 'input_scaling': 0.9487271510664272, 'p': 0.48825860907957325}. Best is trial 13 with value: 0.09301559078262041.\n",
      "[W 2025-07-21 17:59:25,468] The parameter 'spectral_radius' in trial#15 is sampled independently instead of being sampled by multivariate TPE sampler. (optimization performance may be degraded). You can suppress this warning by setting `warn_independent_sampling` to `False` in the constructor of `TPESampler`, if this independent sampling is intended behavior.\n",
      "Running Model-14: 1488it [00:00, 6884.34it/s]<?, ?it/s]\n",
      "Running Model-14: 100%|██████████| 1/1 [00:00<00:00,  4.23it/s]\n"
     ]
    },
    {
     "name": "stdout",
     "output_type": "stream",
     "text": [
      "Fitting node Ridge-14...\n"
     ]
    },
    {
     "name": "stderr",
     "output_type": "stream",
     "text": [
      "Running Model-14: 372it [00:00, 4603.60it/s]           \n",
      "[I 2025-07-21 17:59:26,126] Trial 15 finished with value: 0.2159935719831623 and parameters: {'leak_rate': 0.4782606845310611, 'spectral_radius': 0.6161010045134863, 'alpha': 7.767402036182038e-07, 'input_scaling': 0.906571338823821, 'p': 0.17579546423063186}. Best is trial 13 with value: 0.09301559078262041.\n",
      "[W 2025-07-21 17:59:26,147] The parameter 'spectral_radius' in trial#16 is sampled independently instead of being sampled by multivariate TPE sampler. (optimization performance may be degraded). You can suppress this warning by setting `warn_independent_sampling` to `False` in the constructor of `TPESampler`, if this independent sampling is intended behavior.\n",
      "Running Model-15: 1488it [00:00, 2228.08it/s]<?, ?it/s]\n",
      "Running Model-15: 100%|██████████| 1/1 [00:00<00:00,  1.44it/s]\n"
     ]
    },
    {
     "name": "stdout",
     "output_type": "stream",
     "text": [
      "Fitting node Ridge-15...\n"
     ]
    },
    {
     "name": "stderr",
     "output_type": "stream",
     "text": [
      "Running Model-15: 372it [00:00, 2206.21it/s]           \n",
      "[I 2025-07-21 17:59:27,616] Trial 16 finished with value: 0.14898781524291205 and parameters: {'leak_rate': 0.9511215554331296, 'spectral_radius': 0.17098239609408208, 'alpha': 3.312756332339578e-06, 'input_scaling': 0.5020641870841525, 'p': 0.6968407191708859}. Best is trial 13 with value: 0.09301559078262041.\n",
      "[W 2025-07-21 17:59:27,637] The parameter 'spectral_radius' in trial#17 is sampled independently instead of being sampled by multivariate TPE sampler. (optimization performance may be degraded). You can suppress this warning by setting `warn_independent_sampling` to `False` in the constructor of `TPESampler`, if this independent sampling is intended behavior.\n",
      "Running Model-16: 1488it [00:00, 7864.63it/s]<?, ?it/s]\n",
      "Running Model-16: 100%|██████████| 1/1 [00:00<00:00,  4.06it/s]\n"
     ]
    },
    {
     "name": "stdout",
     "output_type": "stream",
     "text": [
      "Fitting node Ridge-16...\n"
     ]
    },
    {
     "name": "stderr",
     "output_type": "stream",
     "text": [
      "Running Model-16: 372it [00:00, 7163.33it/s]           \n",
      "[I 2025-07-21 17:59:28,235] Trial 17 finished with value: 0.15614813458975788 and parameters: {'leak_rate': 0.5631260069963244, 'spectral_radius': 0.5345477580503999, 'alpha': 0.00042680461290959794, 'input_scaling': 0.5756931020809644, 'p': 0.12759251327538657}. Best is trial 13 with value: 0.09301559078262041.\n",
      "[W 2025-07-21 17:59:28,255] The parameter 'spectral_radius' in trial#18 is sampled independently instead of being sampled by multivariate TPE sampler. (optimization performance may be degraded). You can suppress this warning by setting `warn_independent_sampling` to `False` in the constructor of `TPESampler`, if this independent sampling is intended behavior.\n",
      "Running Model-17: 1488it [00:00, 2927.47it/s]<?, ?it/s]\n",
      "Running Model-17: 100%|██████████| 1/1 [00:00<00:00,  1.88it/s]\n"
     ]
    },
    {
     "name": "stdout",
     "output_type": "stream",
     "text": [
      "Fitting node Ridge-17...\n"
     ]
    },
    {
     "name": "stderr",
     "output_type": "stream",
     "text": [
      "Running Model-17: 372it [00:00, 3143.44it/s]           \n",
      "[I 2025-07-21 17:59:29,437] Trial 18 finished with value: 0.13713268314630236 and parameters: {'leak_rate': 0.5398079891505285, 'spectral_radius': 0.8608452433667957, 'alpha': 2.7391237685248777e-07, 'input_scaling': 0.902888434022154, 'p': 0.5555429287454927}. Best is trial 13 with value: 0.09301559078262041.\n",
      "[W 2025-07-21 17:59:29,460] The parameter 'spectral_radius' in trial#19 is sampled independently instead of being sampled by multivariate TPE sampler. (optimization performance may be degraded). You can suppress this warning by setting `warn_independent_sampling` to `False` in the constructor of `TPESampler`, if this independent sampling is intended behavior.\n",
      "Running Model-18: 1488it [00:00, 3268.70it/s]<?, ?it/s]\n",
      "Running Model-18: 100%|██████████| 1/1 [00:00<00:00,  2.08it/s]\n"
     ]
    },
    {
     "name": "stdout",
     "output_type": "stream",
     "text": [
      "Fitting node Ridge-18...\n"
     ]
    },
    {
     "name": "stderr",
     "output_type": "stream",
     "text": [
      "Running Model-18: 372it [00:00, 3172.57it/s]           \n",
      "[I 2025-07-21 17:59:30,619] Trial 19 finished with value: 0.13315969954964305 and parameters: {'leak_rate': 0.6751781225238808, 'spectral_radius': 0.4305422858088693, 'alpha': 3.0967313630725457e-06, 'input_scaling': 0.41100514683258216, 'p': 0.49270575688597124}. Best is trial 13 with value: 0.09301559078262041.\n",
      "[W 2025-07-21 17:59:30,642] The parameter 'spectral_radius' in trial#20 is sampled independently instead of being sampled by multivariate TPE sampler. (optimization performance may be degraded). You can suppress this warning by setting `warn_independent_sampling` to `False` in the constructor of `TPESampler`, if this independent sampling is intended behavior.\n",
      "Running Model-19: 1488it [00:00, 5638.14it/s]<?, ?it/s]\n",
      "Running Model-19: 100%|██████████| 1/1 [00:00<00:00,  3.50it/s]\n"
     ]
    },
    {
     "name": "stdout",
     "output_type": "stream",
     "text": [
      "Fitting node Ridge-19...\n"
     ]
    },
    {
     "name": "stderr",
     "output_type": "stream",
     "text": [
      "Running Model-19: 372it [00:00, 5739.85it/s]           \n",
      "[I 2025-07-21 17:59:31,418] Trial 20 finished with value: 0.12229819768809787 and parameters: {'leak_rate': 0.9921027426426274, 'spectral_radius': 0.014461059101787316, 'alpha': 3.513525156581342e-07, 'input_scaling': 0.16428108274441588, 'p': 0.25486101099990954}. Best is trial 13 with value: 0.09301559078262041.\n",
      "[W 2025-07-21 17:59:31,437] The parameter 'spectral_radius' in trial#21 is sampled independently instead of being sampled by multivariate TPE sampler. (optimization performance may be degraded). You can suppress this warning by setting `warn_independent_sampling` to `False` in the constructor of `TPESampler`, if this independent sampling is intended behavior.\n",
      "Running Model-20: 1488it [00:00, 6166.33it/s]<?, ?it/s]\n",
      "Running Model-20: 100%|██████████| 1/1 [00:00<00:00,  3.82it/s]\n"
     ]
    },
    {
     "name": "stdout",
     "output_type": "stream",
     "text": [
      "Fitting node Ridge-20...\n"
     ]
    },
    {
     "name": "stderr",
     "output_type": "stream",
     "text": [
      "Running Model-20: 372it [00:00, 6102.31it/s]           \n",
      "[I 2025-07-21 17:59:32,143] Trial 21 finished with value: 0.07259725904658554 and parameters: {'leak_rate': 0.30035428717341195, 'spectral_radius': 0.8905985513583052, 'alpha': 5.31693676714526e-07, 'input_scaling': 0.13940355264063625, 'p': 0.2198190207560327}. Best is trial 21 with value: 0.07259725904658554.\n",
      "[W 2025-07-21 17:59:32,165] The parameter 'spectral_radius' in trial#22 is sampled independently instead of being sampled by multivariate TPE sampler. (optimization performance may be degraded). You can suppress this warning by setting `warn_independent_sampling` to `False` in the constructor of `TPESampler`, if this independent sampling is intended behavior.\n",
      "Running Model-21: 1488it [00:00, 5170.54it/s]<?, ?it/s]\n",
      "Running Model-21: 100%|██████████| 1/1 [00:00<00:00,  3.24it/s]\n"
     ]
    },
    {
     "name": "stdout",
     "output_type": "stream",
     "text": [
      "Fitting node Ridge-21...\n"
     ]
    },
    {
     "name": "stderr",
     "output_type": "stream",
     "text": [
      "Running Model-21: 372it [00:00, 5507.13it/s]           \n",
      "[I 2025-07-21 17:59:32,933] Trial 22 finished with value: 0.1710304364547444 and parameters: {'leak_rate': 0.4275349086209145, 'spectral_radius': 0.8490177752529233, 'alpha': 1.2675334242460636e-07, 'input_scaling': 0.2222570333039937, 'p': 0.27619723868560886}. Best is trial 21 with value: 0.07259725904658554.\n",
      "[W 2025-07-21 17:59:32,954] The parameter 'spectral_radius' in trial#23 is sampled independently instead of being sampled by multivariate TPE sampler. (optimization performance may be degraded). You can suppress this warning by setting `warn_independent_sampling` to `False` in the constructor of `TPESampler`, if this independent sampling is intended behavior.\n",
      "Running Model-22: 1488it [00:00, 4102.49it/s]<?, ?it/s]\n",
      "Running Model-22: 100%|██████████| 1/1 [00:00<00:00,  2.58it/s]\n"
     ]
    },
    {
     "name": "stdout",
     "output_type": "stream",
     "text": [
      "Fitting node Ridge-22...\n"
     ]
    },
    {
     "name": "stderr",
     "output_type": "stream",
     "text": [
      "Running Model-22: 372it [00:00, 4233.83it/s]           \n",
      "[I 2025-07-21 17:59:33,843] Trial 23 finished with value: 0.09535663820486141 and parameters: {'leak_rate': 0.22127118704399262, 'spectral_radius': 0.9548869280062868, 'alpha': 1.7519151953364132e-06, 'input_scaling': 0.14776874862739167, 'p': 0.39157077191469625}. Best is trial 21 with value: 0.07259725904658554.\n",
      "[W 2025-07-21 17:59:33,864] The parameter 'spectral_radius' in trial#24 is sampled independently instead of being sampled by multivariate TPE sampler. (optimization performance may be degraded). You can suppress this warning by setting `warn_independent_sampling` to `False` in the constructor of `TPESampler`, if this independent sampling is intended behavior.\n",
      "Running Model-23: 1488it [00:00, 3793.66it/s]<?, ?it/s]\n",
      "Running Model-23: 100%|██████████| 1/1 [00:00<00:00,  2.42it/s]\n"
     ]
    },
    {
     "name": "stdout",
     "output_type": "stream",
     "text": [
      "Fitting node Ridge-23...\n"
     ]
    },
    {
     "name": "stderr",
     "output_type": "stream",
     "text": [
      "Running Model-23: 372it [00:00, 3058.27it/s]           \n",
      "[I 2025-07-21 17:59:35,050] Trial 24 finished with value: 0.13085275570765487 and parameters: {'leak_rate': 0.19763694552877714, 'spectral_radius': 1.0038422479165063, 'alpha': 5.566329682826534e-06, 'input_scaling': 0.24988630249964688, 'p': 0.4256084228762668}. Best is trial 21 with value: 0.07259725904658554.\n",
      "[W 2025-07-21 17:59:35,072] The parameter 'spectral_radius' in trial#25 is sampled independently instead of being sampled by multivariate TPE sampler. (optimization performance may be degraded). You can suppress this warning by setting `warn_independent_sampling` to `False` in the constructor of `TPESampler`, if this independent sampling is intended behavior.\n",
      "Running Model-24: 1488it [00:00, 6526.25it/s]<?, ?it/s]\n",
      "Running Model-24: 100%|██████████| 1/1 [00:00<00:00,  4.02it/s]\n"
     ]
    },
    {
     "name": "stdout",
     "output_type": "stream",
     "text": [
      "Fitting node Ridge-24...\n"
     ]
    },
    {
     "name": "stderr",
     "output_type": "stream",
     "text": [
      "Running Model-24: 372it [00:00, 6338.53it/s]           \n",
      "[I 2025-07-21 17:59:35,718] Trial 25 finished with value: 0.09185221906857771 and parameters: {'leak_rate': 0.2792639783609743, 'spectral_radius': 0.9722743155234558, 'alpha': 5.96366230590415e-06, 'input_scaling': 0.10703651880835666, 'p': 0.19091162342666762}. Best is trial 21 with value: 0.07259725904658554.\n",
      "[W 2025-07-21 17:59:35,739] The parameter 'spectral_radius' in trial#26 is sampled independently instead of being sampled by multivariate TPE sampler. (optimization performance may be degraded). You can suppress this warning by setting `warn_independent_sampling` to `False` in the constructor of `TPESampler`, if this independent sampling is intended behavior.\n",
      "Running Model-25: 1488it [00:00, 6074.40it/s]<?, ?it/s]\n",
      "Running Model-25: 100%|██████████| 1/1 [00:00<00:00,  3.81it/s]\n"
     ]
    },
    {
     "name": "stdout",
     "output_type": "stream",
     "text": [
      "Fitting node Ridge-25...\n"
     ]
    },
    {
     "name": "stderr",
     "output_type": "stream",
     "text": [
      "Running Model-25: 372it [00:00, 6630.78it/s]           \n",
      "[I 2025-07-21 17:59:36,396] Trial 26 finished with value: 0.09600646813337217 and parameters: {'leak_rate': 0.2932068168719879, 'spectral_radius': 0.9687801993135133, 'alpha': 8.23643656042747e-05, 'input_scaling': 0.1159726178251588, 'p': 0.1862160864000787}. Best is trial 21 with value: 0.07259725904658554.\n",
      "[W 2025-07-21 17:59:36,417] The parameter 'spectral_radius' in trial#27 is sampled independently instead of being sampled by multivariate TPE sampler. (optimization performance may be degraded). You can suppress this warning by setting `warn_independent_sampling` to `False` in the constructor of `TPESampler`, if this independent sampling is intended behavior.\n",
      "Running Model-26: 1488it [00:00, 8047.38it/s]<?, ?it/s]\n",
      "Running Model-26: 100%|██████████| 1/1 [00:00<00:00,  4.84it/s]\n"
     ]
    },
    {
     "name": "stdout",
     "output_type": "stream",
     "text": [
      "Fitting node Ridge-26...\n"
     ]
    },
    {
     "name": "stderr",
     "output_type": "stream",
     "text": [
      "Running Model-26: 372it [00:00, 8001.48it/s]           \n",
      "[I 2025-07-21 17:59:37,007] Trial 27 finished with value: 0.1946474640535444 and parameters: {'leak_rate': 0.21761975456456362, 'spectral_radius': 1.0343089713947873, 'alpha': 3.0941797915272465e-07, 'input_scaling': 0.2723169552071649, 'p': 0.11064928815907646}. Best is trial 21 with value: 0.07259725904658554.\n",
      "[W 2025-07-21 17:59:37,027] The parameter 'spectral_radius' in trial#28 is sampled independently instead of being sampled by multivariate TPE sampler. (optimization performance may be degraded). You can suppress this warning by setting `warn_independent_sampling` to `False` in the constructor of `TPESampler`, if this independent sampling is intended behavior.\n",
      "Running Model-27: 1488it [00:00, 1503.91it/s]<?, ?it/s]\n",
      "Running Model-27: 100%|██████████| 1/1 [00:01<00:00,  1.01s/it]\n"
     ]
    },
    {
     "name": "stdout",
     "output_type": "stream",
     "text": [
      "Fitting node Ridge-27...\n"
     ]
    },
    {
     "name": "stderr",
     "output_type": "stream",
     "text": [
      "Running Model-27: 372it [00:00, 1385.53it/s]           \n",
      "[I 2025-07-21 17:59:38,941] Trial 28 finished with value: 0.1886667091832694 and parameters: {'leak_rate': 0.8306037580853842, 'spectral_radius': 0.3367394130343409, 'alpha': 0.0036503729641325687, 'input_scaling': 0.9291859010597476, 'p': 0.9562106868348659}. Best is trial 21 with value: 0.07259725904658554.\n",
      "[W 2025-07-21 17:59:38,962] The parameter 'spectral_radius' in trial#29 is sampled independently instead of being sampled by multivariate TPE sampler. (optimization performance may be degraded). You can suppress this warning by setting `warn_independent_sampling` to `False` in the constructor of `TPESampler`, if this independent sampling is intended behavior.\n",
      "Running Model-28: 1488it [00:00, 2170.18it/s]<?, ?it/s]\n",
      "Running Model-28: 100%|██████████| 1/1 [00:00<00:00,  1.41it/s]\n"
     ]
    },
    {
     "name": "stdout",
     "output_type": "stream",
     "text": [
      "Fitting node Ridge-28...\n"
     ]
    },
    {
     "name": "stderr",
     "output_type": "stream",
     "text": [
      "Running Model-28: 372it [00:00, 2435.11it/s]           \n",
      "[I 2025-07-21 17:59:40,491] Trial 29 finished with value: 0.14421142730602798 and parameters: {'leak_rate': 0.5253137222462201, 'spectral_radius': 0.785287637129203, 'alpha': 3.5399131673958566e-05, 'input_scaling': 0.1811552062764718, 'p': 0.7239210836030305}. Best is trial 21 with value: 0.07259725904658554.\n",
      "[W 2025-07-21 17:59:40,511] The parameter 'spectral_radius' in trial#30 is sampled independently instead of being sampled by multivariate TPE sampler. (optimization performance may be degraded). You can suppress this warning by setting `warn_independent_sampling` to `False` in the constructor of `TPESampler`, if this independent sampling is intended behavior.\n",
      "Running Model-29: 1488it [00:00, 7504.91it/s]<?, ?it/s]\n",
      "Running Model-29: 100%|██████████| 1/1 [00:00<00:00,  4.55it/s]\n"
     ]
    },
    {
     "name": "stdout",
     "output_type": "stream",
     "text": [
      "Fitting node Ridge-29...\n"
     ]
    },
    {
     "name": "stderr",
     "output_type": "stream",
     "text": [
      "Running Model-29: 372it [00:00, 5596.18it/s]           \n",
      "[I 2025-07-21 17:59:41,142] Trial 30 finished with value: 0.45546142944381307 and parameters: {'leak_rate': 0.6599539530582543, 'spectral_radius': 1.4599592238624768, 'alpha': 8.18273352678699e-06, 'input_scaling': 0.12787956477138337, 'p': 0.14877656122715785}. Best is trial 21 with value: 0.07259725904658554.\n",
      "[W 2025-07-21 17:59:41,166] The parameter 'spectral_radius' in trial#31 is sampled independently instead of being sampled by multivariate TPE sampler. (optimization performance may be degraded). You can suppress this warning by setting `warn_independent_sampling` to `False` in the constructor of `TPESampler`, if this independent sampling is intended behavior.\n",
      "Running Model-30: 1488it [00:00, 3017.64it/s]<?, ?it/s]\n",
      "Running Model-30: 100%|██████████| 1/1 [00:00<00:00,  1.94it/s]\n"
     ]
    },
    {
     "name": "stdout",
     "output_type": "stream",
     "text": [
      "Fitting node Ridge-30...\n"
     ]
    },
    {
     "name": "stderr",
     "output_type": "stream",
     "text": [
      "Running Model-30: 372it [00:00, 2477.98it/s]           \n",
      "[I 2025-07-21 17:59:42,361] Trial 31 finished with value: 0.12123963339305831 and parameters: {'leak_rate': 0.12085907194178752, 'spectral_radius': 1.1016612547061122, 'alpha': 0.0357507692507535, 'input_scaling': 0.6012237967922939, 'p': 0.5283008137459536}. Best is trial 21 with value: 0.07259725904658554.\n",
      "[W 2025-07-21 17:59:42,385] The parameter 'spectral_radius' in trial#32 is sampled independently instead of being sampled by multivariate TPE sampler. (optimization performance may be degraded). You can suppress this warning by setting `warn_independent_sampling` to `False` in the constructor of `TPESampler`, if this independent sampling is intended behavior.\n",
      "Running Model-31: 1488it [00:00, 3338.80it/s]<?, ?it/s]\n",
      "Running Model-31: 100%|██████████| 1/1 [00:00<00:00,  2.13it/s]\n"
     ]
    },
    {
     "name": "stdout",
     "output_type": "stream",
     "text": [
      "Fitting node Ridge-31...\n"
     ]
    },
    {
     "name": "stderr",
     "output_type": "stream",
     "text": [
      "Running Model-31: 372it [00:00, 3103.36it/s]           \n",
      "[I 2025-07-21 17:59:43,471] Trial 32 finished with value: 0.10059131097269464 and parameters: {'leak_rate': 0.1681840195507522, 'spectral_radius': 0.9926301193623828, 'alpha': 5.017216330225059e-07, 'input_scaling': 0.1367392725237439, 'p': 0.4847347905385034}. Best is trial 21 with value: 0.07259725904658554.\n",
      "[W 2025-07-21 17:59:43,492] The parameter 'spectral_radius' in trial#33 is sampled independently instead of being sampled by multivariate TPE sampler. (optimization performance may be degraded). You can suppress this warning by setting `warn_independent_sampling` to `False` in the constructor of `TPESampler`, if this independent sampling is intended behavior.\n",
      "Running Model-32: 1488it [00:00, 5073.00it/s]<?, ?it/s]\n",
      "Running Model-32: 100%|██████████| 1/1 [00:00<00:00,  3.17it/s]\n"
     ]
    },
    {
     "name": "stdout",
     "output_type": "stream",
     "text": [
      "Fitting node Ridge-32...\n"
     ]
    },
    {
     "name": "stderr",
     "output_type": "stream",
     "text": [
      "Running Model-32: 372it [00:00, 5048.46it/s]           \n",
      "[I 2025-07-21 17:59:44,264] Trial 33 finished with value: 0.09188988480320771 and parameters: {'leak_rate': 0.24143214969149637, 'spectral_radius': 0.923358343022716, 'alpha': 3.578609592334395e-06, 'input_scaling': 0.12293931935044364, 'p': 0.2881602324613606}. Best is trial 21 with value: 0.07259725904658554.\n",
      "[W 2025-07-21 17:59:44,287] The parameter 'spectral_radius' in trial#34 is sampled independently instead of being sampled by multivariate TPE sampler. (optimization performance may be degraded). You can suppress this warning by setting `warn_independent_sampling` to `False` in the constructor of `TPESampler`, if this independent sampling is intended behavior.\n",
      "Running Model-33: 1488it [00:00, 3101.30it/s]<?, ?it/s]\n",
      "Running Model-33: 100%|██████████| 1/1 [00:00<00:00,  2.01it/s]\n"
     ]
    },
    {
     "name": "stdout",
     "output_type": "stream",
     "text": [
      "Fitting node Ridge-33...\n"
     ]
    },
    {
     "name": "stderr",
     "output_type": "stream",
     "text": [
      "Running Model-33: 372it [00:00, 3199.77it/s]           \n",
      "[I 2025-07-21 17:59:45,542] Trial 34 finished with value: 0.09307283744833697 and parameters: {'leak_rate': 0.760683691378734, 'spectral_radius': 0.44367750401816175, 'alpha': 2.7506417286794124e-07, 'input_scaling': 0.5860003571836737, 'p': 0.5018483927228794}. Best is trial 21 with value: 0.07259725904658554.\n",
      "[W 2025-07-21 17:59:45,564] The parameter 'spectral_radius' in trial#35 is sampled independently instead of being sampled by multivariate TPE sampler. (optimization performance may be degraded). You can suppress this warning by setting `warn_independent_sampling` to `False` in the constructor of `TPESampler`, if this independent sampling is intended behavior.\n",
      "Running Model-34: 1488it [00:00, 6232.96it/s]<?, ?it/s]\n",
      "Running Model-34: 100%|██████████| 1/1 [00:00<00:00,  3.85it/s]\n"
     ]
    },
    {
     "name": "stdout",
     "output_type": "stream",
     "text": [
      "Fitting node Ridge-34...\n"
     ]
    },
    {
     "name": "stderr",
     "output_type": "stream",
     "text": [
      "Running Model-34: 372it [00:00, 5514.22it/s]           \n",
      "[I 2025-07-21 17:59:46,440] Trial 35 finished with value: 0.10101545534406035 and parameters: {'leak_rate': 0.34753273320760636, 'spectral_radius': 0.8272686831634809, 'alpha': 4.059262177383517e-06, 'input_scaling': 0.2359519311404787, 'p': 0.21405821129486918}. Best is trial 21 with value: 0.07259725904658554.\n",
      "[W 2025-07-21 17:59:46,461] The parameter 'spectral_radius' in trial#36 is sampled independently instead of being sampled by multivariate TPE sampler. (optimization performance may be degraded). You can suppress this warning by setting `warn_independent_sampling` to `False` in the constructor of `TPESampler`, if this independent sampling is intended behavior.\n",
      "Running Model-35: 1488it [00:00, 4277.78it/s]<?, ?it/s]\n",
      "Running Model-35: 100%|██████████| 1/1 [00:00<00:00,  2.53it/s]\n"
     ]
    },
    {
     "name": "stdout",
     "output_type": "stream",
     "text": [
      "Fitting node Ridge-35...\n"
     ]
    },
    {
     "name": "stderr",
     "output_type": "stream",
     "text": [
      "Running Model-35: 372it [00:00, 4292.09it/s]           \n",
      "[I 2025-07-21 17:59:47,392] Trial 36 finished with value: 0.10242600504924572 and parameters: {'leak_rate': 0.5188894910901171, 'spectral_radius': 1.2072934836256797, 'alpha': 0.06636160375760587, 'input_scaling': 0.9644930448041242, 'p': 0.3713023647873008}. Best is trial 21 with value: 0.07259725904658554.\n",
      "[W 2025-07-21 17:59:47,413] The parameter 'spectral_radius' in trial#37 is sampled independently instead of being sampled by multivariate TPE sampler. (optimization performance may be degraded). You can suppress this warning by setting `warn_independent_sampling` to `False` in the constructor of `TPESampler`, if this independent sampling is intended behavior.\n",
      "Running Model-36: 1488it [00:00, 6633.46it/s]<?, ?it/s]\n",
      "Running Model-36: 100%|██████████| 1/1 [00:00<00:00,  4.09it/s]\n"
     ]
    },
    {
     "name": "stdout",
     "output_type": "stream",
     "text": [
      "Fitting node Ridge-36...\n"
     ]
    },
    {
     "name": "stderr",
     "output_type": "stream",
     "text": [
      "Running Model-36: 372it [00:00, 6458.46it/s]           \n",
      "[I 2025-07-21 17:59:48,123] Trial 37 finished with value: 0.09457852466400297 and parameters: {'leak_rate': 0.20120362315965193, 'spectral_radius': 0.9464191847826443, 'alpha': 6.4835140397859725e-06, 'input_scaling': 0.1505768419352068, 'p': 0.17860552562942217}. Best is trial 21 with value: 0.07259725904658554.\n",
      "[W 2025-07-21 17:59:48,149] The parameter 'spectral_radius' in trial#38 is sampled independently instead of being sampled by multivariate TPE sampler. (optimization performance may be degraded). You can suppress this warning by setting `warn_independent_sampling` to `False` in the constructor of `TPESampler`, if this independent sampling is intended behavior.\n",
      "Running Model-37: 1488it [00:00, 5431.28it/s]<?, ?it/s]\n",
      "Running Model-37: 100%|██████████| 1/1 [00:00<00:00,  3.37it/s]\n"
     ]
    },
    {
     "name": "stdout",
     "output_type": "stream",
     "text": [
      "Fitting node Ridge-37...\n"
     ]
    },
    {
     "name": "stderr",
     "output_type": "stream",
     "text": [
      "Running Model-37: 372it [00:00, 5443.29it/s]           \n",
      "[I 2025-07-21 17:59:48,874] Trial 38 finished with value: 0.12182646811017507 and parameters: {'leak_rate': 0.954074897149869, 'spectral_radius': 0.2847046196271222, 'alpha': 1.3446379332566841e-07, 'input_scaling': 0.7942109194469396, 'p': 0.2558528695345982}. Best is trial 21 with value: 0.07259725904658554.\n",
      "[W 2025-07-21 17:59:48,896] The parameter 'spectral_radius' in trial#39 is sampled independently instead of being sampled by multivariate TPE sampler. (optimization performance may be degraded). You can suppress this warning by setting `warn_independent_sampling` to `False` in the constructor of `TPESampler`, if this independent sampling is intended behavior.\n",
      "Running Model-38: 1488it [00:00, 4120.94it/s]<?, ?it/s]\n",
      "Running Model-38: 100%|██████████| 1/1 [00:00<00:00,  2.56it/s]\n"
     ]
    },
    {
     "name": "stdout",
     "output_type": "stream",
     "text": [
      "Fitting node Ridge-38...\n"
     ]
    },
    {
     "name": "stderr",
     "output_type": "stream",
     "text": [
      "Running Model-38: 372it [00:00, 3771.01it/s]           \n",
      "[I 2025-07-21 17:59:49,805] Trial 39 finished with value: 0.15270274047236757 and parameters: {'leak_rate': 0.473383207865381, 'spectral_radius': 0.7505831597519376, 'alpha': 2.6363520637842407e-05, 'input_scaling': 0.10874323156650723, 'p': 0.3852252746993503}. Best is trial 21 with value: 0.07259725904658554.\n",
      "[W 2025-07-21 17:59:49,828] The parameter 'spectral_radius' in trial#40 is sampled independently instead of being sampled by multivariate TPE sampler. (optimization performance may be degraded). You can suppress this warning by setting `warn_independent_sampling` to `False` in the constructor of `TPESampler`, if this independent sampling is intended behavior.\n",
      "Running Model-39: 1488it [00:00, 1591.27it/s]<?, ?it/s]\n",
      "Running Model-39: 100%|██████████| 1/1 [00:00<00:00,  1.04it/s]\n"
     ]
    },
    {
     "name": "stdout",
     "output_type": "stream",
     "text": [
      "Fitting node Ridge-39...\n"
     ]
    },
    {
     "name": "stderr",
     "output_type": "stream",
     "text": [
      "Running Model-39: 372it [00:00, 1602.57it/s]           \n",
      "[I 2025-07-21 17:59:51,747] Trial 40 finished with value: 0.13014158041730695 and parameters: {'leak_rate': 0.9861912621473398, 'spectral_radius': 0.0356207206022958, 'alpha': 1.5627657860604376e-07, 'input_scaling': 0.9743783058646749, 'p': 0.9300921955149353}. Best is trial 21 with value: 0.07259725904658554.\n",
      "[W 2025-07-21 17:59:51,768] The parameter 'spectral_radius' in trial#41 is sampled independently instead of being sampled by multivariate TPE sampler. (optimization performance may be degraded). You can suppress this warning by setting `warn_independent_sampling` to `False` in the constructor of `TPESampler`, if this independent sampling is intended behavior.\n",
      "Running Model-40: 1488it [00:00, 5694.25it/s]<?, ?it/s]\n",
      "Running Model-40: 100%|██████████| 1/1 [00:00<00:00,  3.54it/s]\n"
     ]
    },
    {
     "name": "stdout",
     "output_type": "stream",
     "text": [
      "Fitting node Ridge-40...\n"
     ]
    },
    {
     "name": "stderr",
     "output_type": "stream",
     "text": [
      "Running Model-40: 372it [00:00, 5592.57it/s]           \n",
      "[I 2025-07-21 17:59:52,496] Trial 41 finished with value: 0.2855164450222574 and parameters: {'leak_rate': 0.8806860524402025, 'spectral_radius': 1.866053959993201, 'alpha': 0.019862117727175645, 'input_scaling': 0.17709871950441675, 'p': 0.24002087735306304}. Best is trial 21 with value: 0.07259725904658554.\n",
      "[W 2025-07-21 17:59:52,517] The parameter 'spectral_radius' in trial#42 is sampled independently instead of being sampled by multivariate TPE sampler. (optimization performance may be degraded). You can suppress this warning by setting `warn_independent_sampling` to `False` in the constructor of `TPESampler`, if this independent sampling is intended behavior.\n",
      "Running Model-41: 1488it [00:00, 2531.32it/s]<?, ?it/s]\n",
      "Running Model-41: 100%|██████████| 1/1 [00:00<00:00,  1.63it/s]\n"
     ]
    },
    {
     "name": "stdout",
     "output_type": "stream",
     "text": [
      "Fitting node Ridge-41...\n"
     ]
    },
    {
     "name": "stderr",
     "output_type": "stream",
     "text": [
      "Running Model-41: 372it [00:00, 2781.91it/s]           \n",
      "[I 2025-07-21 17:59:53,850] Trial 42 finished with value: 0.10863022393333568 and parameters: {'leak_rate': 0.822764786844445, 'spectral_radius': 0.41487369677700825, 'alpha': 1.341573216375149e-07, 'input_scaling': 0.5786390673110733, 'p': 0.635993591542877}. Best is trial 21 with value: 0.07259725904658554.\n",
      "[W 2025-07-21 17:59:53,871] The parameter 'spectral_radius' in trial#43 is sampled independently instead of being sampled by multivariate TPE sampler. (optimization performance may be degraded). You can suppress this warning by setting `warn_independent_sampling` to `False` in the constructor of `TPESampler`, if this independent sampling is intended behavior.\n",
      "Running Model-42: 1488it [00:00, 3358.62it/s]<?, ?it/s]\n",
      "Running Model-42: 100%|██████████| 1/1 [00:00<00:00,  2.14it/s]\n"
     ]
    },
    {
     "name": "stdout",
     "output_type": "stream",
     "text": [
      "Fitting node Ridge-42...\n"
     ]
    },
    {
     "name": "stderr",
     "output_type": "stream",
     "text": [
      "Running Model-42: 372it [00:00, 3350.03it/s]           \n",
      "[I 2025-07-21 17:59:55,069] Trial 43 finished with value: 0.09621602389278598 and parameters: {'leak_rate': 0.7884726809036456, 'spectral_radius': 0.4043428095447849, 'alpha': 1.1984990550551573e-07, 'input_scaling': 0.7815343058875288, 'p': 0.49381363723906907}. Best is trial 21 with value: 0.07259725904658554.\n",
      "[W 2025-07-21 17:59:55,094] The parameter 'spectral_radius' in trial#44 is sampled independently instead of being sampled by multivariate TPE sampler. (optimization performance may be degraded). You can suppress this warning by setting `warn_independent_sampling` to `False` in the constructor of `TPESampler`, if this independent sampling is intended behavior.\n",
      "Running Model-43: 1488it [00:00, 6757.32it/s]<?, ?it/s]\n",
      "Running Model-43: 100%|██████████| 1/1 [00:00<00:00,  4.11it/s]\n"
     ]
    },
    {
     "name": "stdout",
     "output_type": "stream",
     "text": [
      "Fitting node Ridge-43...\n"
     ]
    },
    {
     "name": "stderr",
     "output_type": "stream",
     "text": [
      "Running Model-43: 372it [00:00, 7139.34it/s]           \n",
      "[I 2025-07-21 17:59:55,770] Trial 44 finished with value: 0.142050771909237 and parameters: {'leak_rate': 0.43419038021554757, 'spectral_radius': 0.628385782987549, 'alpha': 3.317035634827721e-06, 'input_scaling': 0.19057885959520668, 'p': 0.16725463871041146}. Best is trial 21 with value: 0.07259725904658554.\n",
      "[W 2025-07-21 17:59:55,792] The parameter 'spectral_radius' in trial#45 is sampled independently instead of being sampled by multivariate TPE sampler. (optimization performance may be degraded). You can suppress this warning by setting `warn_independent_sampling` to `False` in the constructor of `TPESampler`, if this independent sampling is intended behavior.\n",
      "Running Model-44: 1488it [00:01, 1418.52it/s]<?, ?it/s]\n",
      "Running Model-44: 100%|██████████| 1/1 [00:01<00:00,  1.07s/it]\n"
     ]
    },
    {
     "name": "stdout",
     "output_type": "stream",
     "text": [
      "Fitting node Ridge-44...\n"
     ]
    },
    {
     "name": "stderr",
     "output_type": "stream",
     "text": [
      "Running Model-44: 372it [00:00, 1226.53it/s]           \n",
      "[I 2025-07-21 17:59:57,816] Trial 45 finished with value: 0.131465743168781 and parameters: {'leak_rate': 0.341232275104863, 'spectral_radius': 0.7171371659172857, 'alpha': 6.368638323068164e-07, 'input_scaling': 0.13407855833955445, 'p': 0.991427287748372}. Best is trial 21 with value: 0.07259725904658554.\n",
      "[W 2025-07-21 17:59:57,838] The parameter 'spectral_radius' in trial#46 is sampled independently instead of being sampled by multivariate TPE sampler. (optimization performance may be degraded). You can suppress this warning by setting `warn_independent_sampling` to `False` in the constructor of `TPESampler`, if this independent sampling is intended behavior.\n",
      "Running Model-45: 1488it [00:00, 3785.48it/s]<?, ?it/s]\n",
      "Running Model-45: 100%|██████████| 1/1 [00:00<00:00,  2.42it/s]\n"
     ]
    },
    {
     "name": "stdout",
     "output_type": "stream",
     "text": [
      "Fitting node Ridge-45...\n"
     ]
    },
    {
     "name": "stderr",
     "output_type": "stream",
     "text": [
      "Running Model-45: 372it [00:00, 3152.05it/s]           \n",
      "[I 2025-07-21 17:59:58,931] Trial 46 finished with value: 0.10963365100371474 and parameters: {'leak_rate': 0.7413807455125498, 'spectral_radius': 0.4007417292542292, 'alpha': 1.1746626771650024e-07, 'input_scaling': 0.5163748274693731, 'p': 0.40111488392497513}. Best is trial 21 with value: 0.07259725904658554.\n",
      "[W 2025-07-21 17:59:58,953] The parameter 'spectral_radius' in trial#47 is sampled independently instead of being sampled by multivariate TPE sampler. (optimization performance may be degraded). You can suppress this warning by setting `warn_independent_sampling` to `False` in the constructor of `TPESampler`, if this independent sampling is intended behavior.\n",
      "Running Model-46: 1488it [00:00, 2890.31it/s]<?, ?it/s]\n",
      "Running Model-46: 100%|██████████| 1/1 [00:00<00:00,  1.87it/s]\n"
     ]
    },
    {
     "name": "stdout",
     "output_type": "stream",
     "text": [
      "Fitting node Ridge-46...\n"
     ]
    },
    {
     "name": "stderr",
     "output_type": "stream",
     "text": [
      "Running Model-46: 372it [00:00, 2904.51it/s]           \n",
      "[I 2025-07-21 18:00:00,164] Trial 47 finished with value: 0.11285452710352299 and parameters: {'leak_rate': 0.6932728266919925, 'spectral_radius': 0.4859434239556638, 'alpha': 1.2522151681814673e-05, 'input_scaling': 0.7033619315580847, 'p': 0.5782752198726266}. Best is trial 21 with value: 0.07259725904658554.\n",
      "[W 2025-07-21 18:00:00,188] The parameter 'spectral_radius' in trial#48 is sampled independently instead of being sampled by multivariate TPE sampler. (optimization performance may be degraded). You can suppress this warning by setting `warn_independent_sampling` to `False` in the constructor of `TPESampler`, if this independent sampling is intended behavior.\n",
      "Running Model-47: 1488it [00:00, 4822.58it/s]<?, ?it/s]\n",
      "Running Model-47: 100%|██████████| 1/1 [00:00<00:00,  3.04it/s]\n"
     ]
    },
    {
     "name": "stdout",
     "output_type": "stream",
     "text": [
      "Fitting node Ridge-47...\n"
     ]
    },
    {
     "name": "stderr",
     "output_type": "stream",
     "text": [
      "Running Model-47: 372it [00:00, 4715.34it/s]           \n",
      "[I 2025-07-21 18:00:01,005] Trial 48 finished with value: 0.08934726324028959 and parameters: {'leak_rate': 0.28504797242936175, 'spectral_radius': 0.9219832406062397, 'alpha': 2.5088903887135296e-06, 'input_scaling': 0.11914604038952017, 'p': 0.31039533686015947}. Best is trial 21 with value: 0.07259725904658554.\n",
      "[W 2025-07-21 18:00:01,025] The parameter 'spectral_radius' in trial#49 is sampled independently instead of being sampled by multivariate TPE sampler. (optimization performance may be degraded). You can suppress this warning by setting `warn_independent_sampling` to `False` in the constructor of `TPESampler`, if this independent sampling is intended behavior.\n",
      "Running Model-48: 1488it [00:00, 1562.91it/s]<?, ?it/s]\n",
      "Running Model-48: 100%|██████████| 1/1 [00:00<00:00,  1.03it/s]\n"
     ]
    },
    {
     "name": "stdout",
     "output_type": "stream",
     "text": [
      "Fitting node Ridge-48...\n"
     ]
    },
    {
     "name": "stderr",
     "output_type": "stream",
     "text": [
      "Running Model-48: 372it [00:00, 1578.47it/s]           \n",
      "[I 2025-07-21 18:00:03,121] Trial 49 finished with value: 0.08528571701626197 and parameters: {'leak_rate': 0.18276082205857236, 'spectral_radius': 0.9597250763680912, 'alpha': 0.014406490812651563, 'input_scaling': 0.6357518688663159, 'p': 0.9860781387136941}. Best is trial 21 with value: 0.07259725904658554.\n",
      "[W 2025-07-21 18:00:03,142] The parameter 'spectral_radius' in trial#50 is sampled independently instead of being sampled by multivariate TPE sampler. (optimization performance may be degraded). You can suppress this warning by setting `warn_independent_sampling` to `False` in the constructor of `TPESampler`, if this independent sampling is intended behavior.\n",
      "Running Model-49: 1488it [00:00, 1547.48it/s]<?, ?it/s]\n",
      "Running Model-49: 100%|██████████| 1/1 [00:00<00:00,  1.02it/s]\n"
     ]
    },
    {
     "name": "stdout",
     "output_type": "stream",
     "text": [
      "Fitting node Ridge-49...\n"
     ]
    },
    {
     "name": "stderr",
     "output_type": "stream",
     "text": [
      "Running Model-49: 372it [00:00, 1567.37it/s]           \n",
      "[I 2025-07-21 18:00:05,082] Trial 50 finished with value: 0.11926505543726566 and parameters: {'leak_rate': 0.12297080146800626, 'spectral_radius': 1.0111003416470703, 'alpha': 0.020261457927972924, 'input_scaling': 0.7655521659522638, 'p': 0.9869744527623319}. Best is trial 21 with value: 0.07259725904658554.\n",
      "[W 2025-07-21 18:00:05,103] The parameter 'spectral_radius' in trial#51 is sampled independently instead of being sampled by multivariate TPE sampler. (optimization performance may be degraded). You can suppress this warning by setting `warn_independent_sampling` to `False` in the constructor of `TPESampler`, if this independent sampling is intended behavior.\n",
      "Running Model-50: 1488it [00:00, 1674.75it/s]<?, ?it/s]\n",
      "Running Model-50: 100%|██████████| 1/1 [00:00<00:00,  1.10it/s]\n"
     ]
    },
    {
     "name": "stdout",
     "output_type": "stream",
     "text": [
      "Fitting node Ridge-50...\n"
     ]
    },
    {
     "name": "stderr",
     "output_type": "stream",
     "text": [
      "Running Model-50: 372it [00:00, 1912.00it/s]           \n",
      "[I 2025-07-21 18:00:07,256] Trial 51 finished with value: 0.131918000803969 and parameters: {'leak_rate': 0.2727132094577298, 'spectral_radius': 0.8995219385742963, 'alpha': 0.0009285085499538781, 'input_scaling': 0.780052701434549, 'p': 0.8940516569879173}. Best is trial 21 with value: 0.07259725904658554.\n",
      "[W 2025-07-21 18:00:07,276] The parameter 'spectral_radius' in trial#52 is sampled independently instead of being sampled by multivariate TPE sampler. (optimization performance may be degraded). You can suppress this warning by setting `warn_independent_sampling` to `False` in the constructor of `TPESampler`, if this independent sampling is intended behavior.\n",
      "Running Model-51: 1488it [00:00, 2192.84it/s]<?, ?it/s]\n",
      "Running Model-51: 100%|██████████| 1/1 [00:00<00:00,  1.43it/s]\n"
     ]
    },
    {
     "name": "stdout",
     "output_type": "stream",
     "text": [
      "Fitting node Ridge-51...\n"
     ]
    },
    {
     "name": "stderr",
     "output_type": "stream",
     "text": [
      "Running Model-51: 372it [00:00, 2127.12it/s]           \n",
      "[I 2025-07-21 18:00:08,985] Trial 52 finished with value: 0.11632981718576307 and parameters: {'leak_rate': 0.15896667858792976, 'spectral_radius': 0.9843450087356771, 'alpha': 0.01606183498006673, 'input_scaling': 0.5563949039232641, 'p': 0.7925485566633284}. Best is trial 21 with value: 0.07259725904658554.\n",
      "[W 2025-07-21 18:00:09,007] The parameter 'spectral_radius' in trial#53 is sampled independently instead of being sampled by multivariate TPE sampler. (optimization performance may be degraded). You can suppress this warning by setting `warn_independent_sampling` to `False` in the constructor of `TPESampler`, if this independent sampling is intended behavior.\n",
      "Running Model-52: 1488it [00:01, 1402.73it/s]<?, ?it/s]\n",
      "Running Model-52: 100%|██████████| 1/1 [00:01<00:00,  1.08s/it]\n"
     ]
    },
    {
     "name": "stdout",
     "output_type": "stream",
     "text": [
      "Fitting node Ridge-52...\n"
     ]
    },
    {
     "name": "stderr",
     "output_type": "stream",
     "text": [
      "Running Model-52: 372it [00:00, 1380.03it/s]           \n",
      "[I 2025-07-21 18:00:11,303] Trial 53 finished with value: 0.14524442622760272 and parameters: {'leak_rate': 0.4755048178397857, 'spectral_radius': 0.8547432800244954, 'alpha': 0.004715813139962675, 'input_scaling': 0.5206174315861938, 'p': 0.9956163677668348}. Best is trial 21 with value: 0.07259725904658554.\n",
      "[W 2025-07-21 18:00:11,328] The parameter 'spectral_radius' in trial#54 is sampled independently instead of being sampled by multivariate TPE sampler. (optimization performance may be degraded). You can suppress this warning by setting `warn_independent_sampling` to `False` in the constructor of `TPESampler`, if this independent sampling is intended behavior.\n",
      "Running Model-53: 1488it [00:00, 6354.55it/s]<?, ?it/s]\n",
      "Running Model-53: 100%|██████████| 1/1 [00:00<00:00,  3.97it/s]\n"
     ]
    },
    {
     "name": "stdout",
     "output_type": "stream",
     "text": [
      "Fitting node Ridge-53...\n"
     ]
    },
    {
     "name": "stderr",
     "output_type": "stream",
     "text": [
      "Running Model-53: 372it [00:00, 5667.26it/s]           \n",
      "[I 2025-07-21 18:00:11,953] Trial 54 finished with value: 0.0997046227182716 and parameters: {'leak_rate': 0.283273311708507, 'spectral_radius': 0.9060770566979313, 'alpha': 8.419004761215792e-07, 'input_scaling': 0.142389235352329, 'p': 0.20630413125282163}. Best is trial 21 with value: 0.07259725904658554.\n",
      "[W 2025-07-21 18:00:11,974] The parameter 'spectral_radius' in trial#55 is sampled independently instead of being sampled by multivariate TPE sampler. (optimization performance may be degraded). You can suppress this warning by setting `warn_independent_sampling` to `False` in the constructor of `TPESampler`, if this independent sampling is intended behavior.\n",
      "Running Model-54: 1488it [00:00, 1679.38it/s]<?, ?it/s]\n",
      "Running Model-54: 100%|██████████| 1/1 [00:00<00:00,  1.10it/s]\n"
     ]
    },
    {
     "name": "stdout",
     "output_type": "stream",
     "text": [
      "Fitting node Ridge-54...\n"
     ]
    },
    {
     "name": "stderr",
     "output_type": "stream",
     "text": [
      "Running Model-54: 372it [00:00, 1662.45it/s]           \n",
      "[I 2025-07-21 18:00:13,839] Trial 55 finished with value: 0.11383562297407979 and parameters: {'leak_rate': 0.11738773144418091, 'spectral_radius': 1.0691828671413903, 'alpha': 0.003648283506736494, 'input_scaling': 0.5313444035862849, 'p': 0.9029941291029555}. Best is trial 21 with value: 0.07259725904658554.\n",
      "[W 2025-07-21 18:00:13,862] The parameter 'spectral_radius' in trial#56 is sampled independently instead of being sampled by multivariate TPE sampler. (optimization performance may be degraded). You can suppress this warning by setting `warn_independent_sampling` to `False` in the constructor of `TPESampler`, if this independent sampling is intended behavior.\n",
      "Running Model-55: 1488it [00:00, 3823.71it/s]<?, ?it/s]\n",
      "Running Model-55: 100%|██████████| 1/1 [00:00<00:00,  2.45it/s]\n"
     ]
    },
    {
     "name": "stdout",
     "output_type": "stream",
     "text": [
      "Fitting node Ridge-55...\n"
     ]
    },
    {
     "name": "stderr",
     "output_type": "stream",
     "text": [
      "Running Model-55: 372it [00:00, 3820.82it/s]           \n",
      "[I 2025-07-21 18:00:14,818] Trial 56 finished with value: 0.10465713149489018 and parameters: {'leak_rate': 0.40247474143968665, 'spectral_radius': 0.8774619827191897, 'alpha': 2.8857326451458075e-07, 'input_scaling': 0.13351983475353466, 'p': 0.42029875576356546}. Best is trial 21 with value: 0.07259725904658554.\n",
      "[W 2025-07-21 18:00:14,842] The parameter 'spectral_radius' in trial#57 is sampled independently instead of being sampled by multivariate TPE sampler. (optimization performance may be degraded). You can suppress this warning by setting `warn_independent_sampling` to `False` in the constructor of `TPESampler`, if this independent sampling is intended behavior.\n",
      "Running Model-56: 1488it [00:00, 4756.94it/s]<?, ?it/s]\n",
      "Running Model-56: 100%|██████████| 1/1 [00:00<00:00,  2.99it/s]\n"
     ]
    },
    {
     "name": "stdout",
     "output_type": "stream",
     "text": [
      "Fitting node Ridge-56...\n"
     ]
    },
    {
     "name": "stderr",
     "output_type": "stream",
     "text": [
      "Running Model-56: 372it [00:00, 4619.82it/s]           \n",
      "[I 2025-07-21 18:00:15,649] Trial 57 finished with value: 0.12524937204610742 and parameters: {'leak_rate': 0.10812053449155803, 'spectral_radius': 1.0314783755276298, 'alpha': 0.00017000989094107576, 'input_scaling': 0.13948615758744867, 'p': 0.3232835777939947}. Best is trial 21 with value: 0.07259725904658554.\n",
      "[W 2025-07-21 18:00:15,675] The parameter 'spectral_radius' in trial#58 is sampled independently instead of being sampled by multivariate TPE sampler. (optimization performance may be degraded). You can suppress this warning by setting `warn_independent_sampling` to `False` in the constructor of `TPESampler`, if this independent sampling is intended behavior.\n",
      "Running Model-57: 1488it [00:00, 5660.61it/s]<?, ?it/s]\n",
      "Running Model-57: 100%|██████████| 1/1 [00:00<00:00,  3.18it/s]\n"
     ]
    },
    {
     "name": "stdout",
     "output_type": "stream",
     "text": [
      "Fitting node Ridge-57...\n"
     ]
    },
    {
     "name": "stderr",
     "output_type": "stream",
     "text": [
      "Running Model-57: 372it [00:00, 6155.51it/s]           \n",
      "[I 2025-07-21 18:00:16,393] Trial 58 finished with value: 0.10772711558490497 and parameters: {'leak_rate': 0.17459094030235284, 'spectral_radius': 0.9689821290015042, 'alpha': 1.9739714603285546e-06, 'input_scaling': 0.13181042011211488, 'p': 0.21104842431248977}. Best is trial 21 with value: 0.07259725904658554.\n",
      "[W 2025-07-21 18:00:16,415] The parameter 'spectral_radius' in trial#59 is sampled independently instead of being sampled by multivariate TPE sampler. (optimization performance may be degraded). You can suppress this warning by setting `warn_independent_sampling` to `False` in the constructor of `TPESampler`, if this independent sampling is intended behavior.\n",
      "Running Model-58: 1488it [00:00, 1773.27it/s]<?, ?it/s]\n",
      "Running Model-58: 100%|██████████| 1/1 [00:00<00:00,  1.16it/s]\n"
     ]
    },
    {
     "name": "stdout",
     "output_type": "stream",
     "text": [
      "Fitting node Ridge-58...\n"
     ]
    },
    {
     "name": "stderr",
     "output_type": "stream",
     "text": [
      "Running Model-58: 372it [00:00, 1813.54it/s]           \n",
      "[I 2025-07-21 18:00:18,148] Trial 59 finished with value: 0.16762895922456636 and parameters: {'leak_rate': 0.38028785576832547, 'spectral_radius': 0.8380221627836704, 'alpha': 0.06519299150234481, 'input_scaling': 0.6255527211563396, 'p': 0.915078575727193}. Best is trial 21 with value: 0.07259725904658554.\n",
      "[W 2025-07-21 18:00:18,168] The parameter 'spectral_radius' in trial#60 is sampled independently instead of being sampled by multivariate TPE sampler. (optimization performance may be degraded). You can suppress this warning by setting `warn_independent_sampling` to `False` in the constructor of `TPESampler`, if this independent sampling is intended behavior.\n",
      "Running Model-59: 1488it [00:00, 4837.69it/s]<?, ?it/s]\n",
      "Running Model-59: 100%|██████████| 1/1 [00:00<00:00,  3.05it/s]\n"
     ]
    },
    {
     "name": "stdout",
     "output_type": "stream",
     "text": [
      "Fitting node Ridge-59...\n"
     ]
    },
    {
     "name": "stderr",
     "output_type": "stream",
     "text": [
      "Running Model-59: 372it [00:00, 4228.21it/s]           \n",
      "[I 2025-07-21 18:00:18,974] Trial 60 finished with value: 0.13537068096195526 and parameters: {'leak_rate': 0.30029617824233856, 'spectral_radius': 0.8839202354640988, 'alpha': 9.886617309676539e-06, 'input_scaling': 0.10078237803212521, 'p': 0.29800885134129895}. Best is trial 21 with value: 0.07259725904658554.\n",
      "[W 2025-07-21 18:00:18,999] The parameter 'spectral_radius' in trial#61 is sampled independently instead of being sampled by multivariate TPE sampler. (optimization performance may be degraded). You can suppress this warning by setting `warn_independent_sampling` to `False` in the constructor of `TPESampler`, if this independent sampling is intended behavior.\n",
      "Running Model-60: 1488it [00:00, 3039.05it/s]<?, ?it/s]\n",
      "Running Model-60: 100%|██████████| 1/1 [00:00<00:00,  1.96it/s]\n"
     ]
    },
    {
     "name": "stdout",
     "output_type": "stream",
     "text": [
      "Fitting node Ridge-60...\n"
     ]
    },
    {
     "name": "stderr",
     "output_type": "stream",
     "text": [
      "Running Model-60: 372it [00:00, 3038.38it/s]           \n",
      "[I 2025-07-21 18:00:20,137] Trial 61 finished with value: 0.1028242890513239 and parameters: {'leak_rate': 0.4785203601582194, 'spectral_radius': 1.190191404347474, 'alpha': 0.0067334039707099315, 'input_scaling': 0.420528347820553, 'p': 0.5435079069798228}. Best is trial 21 with value: 0.07259725904658554.\n",
      "[W 2025-07-21 18:00:20,160] The parameter 'spectral_radius' in trial#62 is sampled independently instead of being sampled by multivariate TPE sampler. (optimization performance may be degraded). You can suppress this warning by setting `warn_independent_sampling` to `False` in the constructor of `TPESampler`, if this independent sampling is intended behavior.\n",
      "Running Model-61: 1488it [00:00, 4469.78it/s]<?, ?it/s]\n",
      "Running Model-61: 100%|██████████| 1/1 [00:00<00:00,  2.85it/s]\n"
     ]
    },
    {
     "name": "stdout",
     "output_type": "stream",
     "text": [
      "Fitting node Ridge-61...\n"
     ]
    },
    {
     "name": "stderr",
     "output_type": "stream",
     "text": [
      "Running Model-61: 372it [00:00, 4334.51it/s]           \n",
      "[I 2025-07-21 18:00:21,034] Trial 62 finished with value: 0.1062653458608334 and parameters: {'leak_rate': 0.8390666465721323, 'spectral_radius': 0.5320010561534838, 'alpha': 3.369313178854012e-06, 'input_scaling': 0.703312910973325, 'p': 0.33567492343575434}. Best is trial 21 with value: 0.07259725904658554.\n",
      "[W 2025-07-21 18:00:21,054] The parameter 'spectral_radius' in trial#63 is sampled independently instead of being sampled by multivariate TPE sampler. (optimization performance may be degraded). You can suppress this warning by setting `warn_independent_sampling` to `False` in the constructor of `TPESampler`, if this independent sampling is intended behavior.\n",
      "Running Model-62: 1488it [00:00, 4214.12it/s]<?, ?it/s]\n",
      "Running Model-62: 100%|██████████| 1/1 [00:00<00:00,  2.70it/s]\n"
     ]
    },
    {
     "name": "stdout",
     "output_type": "stream",
     "text": [
      "Fitting node Ridge-62...\n"
     ]
    },
    {
     "name": "stderr",
     "output_type": "stream",
     "text": [
      "Running Model-62: 372it [00:00, 4029.60it/s]           \n",
      "[I 2025-07-21 18:00:21,962] Trial 63 finished with value: 0.1387860996881288 and parameters: {'leak_rate': 0.34800193495522, 'spectral_radius': 0.6971276688106925, 'alpha': 2.7082001771487854e-06, 'input_scaling': 0.14013223682892156, 'p': 0.3612577514337535}. Best is trial 21 with value: 0.07259725904658554.\n",
      "[W 2025-07-21 18:00:21,985] The parameter 'spectral_radius' in trial#64 is sampled independently instead of being sampled by multivariate TPE sampler. (optimization performance may be degraded). You can suppress this warning by setting `warn_independent_sampling` to `False` in the constructor of `TPESampler`, if this independent sampling is intended behavior.\n",
      "Running Model-63: 1488it [00:00, 6717.64it/s]<?, ?it/s]\n",
      "Running Model-63: 100%|██████████| 1/1 [00:00<00:00,  4.13it/s]\n"
     ]
    },
    {
     "name": "stdout",
     "output_type": "stream",
     "text": [
      "Fitting node Ridge-63...\n"
     ]
    },
    {
     "name": "stderr",
     "output_type": "stream",
     "text": [
      "Running Model-63: 372it [00:00, 5301.74it/s]           \n",
      "[I 2025-07-21 18:00:22,636] Trial 64 finished with value: 0.19998615637662986 and parameters: {'leak_rate': 0.12954797458389822, 'spectral_radius': 1.003329917157714, 'alpha': 0.0013443426864230062, 'input_scaling': 0.8552504064915037, 'p': 0.15993563693860824}. Best is trial 21 with value: 0.07259725904658554.\n",
      "[W 2025-07-21 18:00:22,659] The parameter 'spectral_radius' in trial#65 is sampled independently instead of being sampled by multivariate TPE sampler. (optimization performance may be degraded). You can suppress this warning by setting `warn_independent_sampling` to `False` in the constructor of `TPESampler`, if this independent sampling is intended behavior.\n",
      "Running Model-64: 1488it [00:00, 3549.53it/s]<?, ?it/s]\n",
      "Running Model-64: 100%|██████████| 1/1 [00:00<00:00,  2.28it/s]\n"
     ]
    },
    {
     "name": "stdout",
     "output_type": "stream",
     "text": [
      "Fitting node Ridge-64...\n"
     ]
    },
    {
     "name": "stderr",
     "output_type": "stream",
     "text": [
      "Running Model-64: 372it [00:00, 3561.37it/s]           \n",
      "[I 2025-07-21 18:00:24,107] Trial 65 finished with value: 0.14088158112199517 and parameters: {'leak_rate': 0.5429091783659978, 'spectral_radius': 0.5469179789720381, 'alpha': 4.641944534935739e-07, 'input_scaling': 0.6595585417857086, 'p': 0.43915395855797434}. Best is trial 21 with value: 0.07259725904658554.\n",
      "[W 2025-07-21 18:00:24,128] The parameter 'spectral_radius' in trial#66 is sampled independently instead of being sampled by multivariate TPE sampler. (optimization performance may be degraded). You can suppress this warning by setting `warn_independent_sampling` to `False` in the constructor of `TPESampler`, if this independent sampling is intended behavior.\n",
      "Running Model-65: 1488it [00:00, 1607.20it/s]<?, ?it/s]\n",
      "Running Model-65: 100%|██████████| 1/1 [00:00<00:00,  1.06it/s]\n"
     ]
    },
    {
     "name": "stdout",
     "output_type": "stream",
     "text": [
      "Fitting node Ridge-65...\n"
     ]
    },
    {
     "name": "stderr",
     "output_type": "stream",
     "text": [
      "Running Model-65: 372it [00:00, 1478.17it/s]           \n",
      "[I 2025-07-21 18:00:25,978] Trial 66 finished with value: 0.08700671198028537 and parameters: {'leak_rate': 0.12533783263329581, 'spectral_radius': 0.9861137231186398, 'alpha': 0.07272328359495753, 'input_scaling': 0.5747835941227315, 'p': 0.9561730328599893}. Best is trial 21 with value: 0.07259725904658554.\n",
      "[W 2025-07-21 18:00:25,999] The parameter 'spectral_radius' in trial#67 is sampled independently instead of being sampled by multivariate TPE sampler. (optimization performance may be degraded). You can suppress this warning by setting `warn_independent_sampling` to `False` in the constructor of `TPESampler`, if this independent sampling is intended behavior.\n",
      "Running Model-66: 1488it [00:00, 1619.22it/s]<?, ?it/s]\n",
      "Running Model-66: 100%|██████████| 1/1 [00:00<00:00,  1.06it/s]\n"
     ]
    },
    {
     "name": "stdout",
     "output_type": "stream",
     "text": [
      "Fitting node Ridge-66...\n"
     ]
    },
    {
     "name": "stderr",
     "output_type": "stream",
     "text": [
      "Running Model-66: 372it [00:00, 1714.37it/s]           \n",
      "[I 2025-07-21 18:00:27,888] Trial 67 finished with value: 0.20306019941006817 and parameters: {'leak_rate': 0.10802103578500068, 'spectral_radius': 1.025594494813619, 'alpha': 0.050204010259403374, 'input_scaling': 0.5065992781271708, 'p': 0.9254976441627406}. Best is trial 21 with value: 0.07259725904658554.\n",
      "[W 2025-07-21 18:00:27,909] The parameter 'spectral_radius' in trial#68 is sampled independently instead of being sampled by multivariate TPE sampler. (optimization performance may be degraded). You can suppress this warning by setting `warn_independent_sampling` to `False` in the constructor of `TPESampler`, if this independent sampling is intended behavior.\n",
      "Running Model-67: 1488it [00:00, 1492.23it/s]<?, ?it/s]\n",
      "Running Model-67: 100%|██████████| 1/1 [00:01<00:00,  1.02s/it]\n"
     ]
    },
    {
     "name": "stdout",
     "output_type": "stream",
     "text": [
      "Fitting node Ridge-67...\n"
     ]
    },
    {
     "name": "stderr",
     "output_type": "stream",
     "text": [
      "Running Model-67: 372it [00:00, 1514.90it/s]           \n",
      "[I 2025-07-21 18:00:30,116] Trial 68 finished with value: 0.15223312859586205 and parameters: {'leak_rate': 0.3473741233161735, 'spectral_radius': 0.8747057509756152, 'alpha': 0.010519646974217901, 'input_scaling': 0.2780685830315788, 'p': 0.9791758460823744}. Best is trial 21 with value: 0.07259725904658554.\n",
      "[W 2025-07-21 18:00:30,136] The parameter 'spectral_radius' in trial#69 is sampled independently instead of being sampled by multivariate TPE sampler. (optimization performance may be degraded). You can suppress this warning by setting `warn_independent_sampling` to `False` in the constructor of `TPESampler`, if this independent sampling is intended behavior.\n",
      "Running Model-68: 1488it [00:00, 2292.81it/s]<?, ?it/s]\n",
      "Running Model-68: 100%|██████████| 1/1 [00:00<00:00,  1.49it/s]\n"
     ]
    },
    {
     "name": "stdout",
     "output_type": "stream",
     "text": [
      "Fitting node Ridge-68...\n"
     ]
    },
    {
     "name": "stderr",
     "output_type": "stream",
     "text": [
      "Running Model-68: 372it [00:00, 2326.90it/s]           \n",
      "[I 2025-07-21 18:00:32,079] Trial 69 finished with value: 0.570659498374166 and parameters: {'leak_rate': 0.9052240763868533, 'spectral_radius': 1.5920538864102958, 'alpha': 0.0017620043514495532, 'input_scaling': 0.22622602534795078, 'p': 0.7468284359023105}. Best is trial 21 with value: 0.07259725904658554.\n",
      "[W 2025-07-21 18:00:32,100] The parameter 'spectral_radius' in trial#70 is sampled independently instead of being sampled by multivariate TPE sampler. (optimization performance may be degraded). You can suppress this warning by setting `warn_independent_sampling` to `False` in the constructor of `TPESampler`, if this independent sampling is intended behavior.\n",
      "Running Model-69: 1488it [00:00, 1551.66it/s]<?, ?it/s]\n",
      "Running Model-69: 100%|██████████| 1/1 [00:00<00:00,  1.02it/s]\n"
     ]
    },
    {
     "name": "stdout",
     "output_type": "stream",
     "text": [
      "Fitting node Ridge-69...\n"
     ]
    },
    {
     "name": "stderr",
     "output_type": "stream",
     "text": [
      "Running Model-69: 372it [00:00, 1549.09it/s]           \n",
      "[I 2025-07-21 18:00:34,544] Trial 70 finished with value: 0.14149092885195302 and parameters: {'leak_rate': 0.18486693661525874, 'spectral_radius': 0.974855734595248, 'alpha': 0.08901799559854517, 'input_scaling': 0.5809341155633905, 'p': 0.979073587473273}. Best is trial 21 with value: 0.07259725904658554.\n",
      "[W 2025-07-21 18:00:34,566] The parameter 'spectral_radius' in trial#71 is sampled independently instead of being sampled by multivariate TPE sampler. (optimization performance may be degraded). You can suppress this warning by setting `warn_independent_sampling` to `False` in the constructor of `TPESampler`, if this independent sampling is intended behavior.\n",
      "Running Model-70: 1488it [00:00, 3780.29it/s]<?, ?it/s]\n",
      "Running Model-70: 100%|██████████| 1/1 [00:00<00:00,  2.43it/s]\n"
     ]
    },
    {
     "name": "stdout",
     "output_type": "stream",
     "text": [
      "Fitting node Ridge-70...\n"
     ]
    },
    {
     "name": "stderr",
     "output_type": "stream",
     "text": [
      "Running Model-70: 372it [00:00, 3719.95it/s]           \n",
      "[I 2025-07-21 18:00:35,542] Trial 71 finished with value: 0.14230180690350855 and parameters: {'leak_rate': 0.23576095738539465, 'spectral_radius': 0.9345694571534261, 'alpha': 1.3925354097628519e-06, 'input_scaling': 0.3519279209153243, 'p': 0.38991158057208064}. Best is trial 21 with value: 0.07259725904658554.\n",
      "[W 2025-07-21 18:00:35,562] The parameter 'spectral_radius' in trial#72 is sampled independently instead of being sampled by multivariate TPE sampler. (optimization performance may be degraded). You can suppress this warning by setting `warn_independent_sampling` to `False` in the constructor of `TPESampler`, if this independent sampling is intended behavior.\n",
      "Running Model-71: 1488it [00:00, 2377.76it/s]<?, ?it/s]\n",
      "Running Model-71: 100%|██████████| 1/1 [00:00<00:00,  1.54it/s]\n"
     ]
    },
    {
     "name": "stdout",
     "output_type": "stream",
     "text": [
      "Fitting node Ridge-71...\n"
     ]
    },
    {
     "name": "stderr",
     "output_type": "stream",
     "text": [
      "Running Model-71: 372it [00:00, 2382.22it/s]           \n",
      "[I 2025-07-21 18:00:36,891] Trial 72 finished with value: 0.1292115136973808 and parameters: {'leak_rate': 0.5616109010421957, 'spectral_radius': 0.5162951706256619, 'alpha': 3.512904801915432e-07, 'input_scaling': 0.33665547094917947, 'p': 0.7159442493312004}. Best is trial 21 with value: 0.07259725904658554.\n",
      "[W 2025-07-21 18:00:36,914] The parameter 'spectral_radius' in trial#73 is sampled independently instead of being sampled by multivariate TPE sampler. (optimization performance may be degraded). You can suppress this warning by setting `warn_independent_sampling` to `False` in the constructor of `TPESampler`, if this independent sampling is intended behavior.\n",
      "Running Model-72: 1488it [00:00, 4762.66it/s]<?, ?it/s]\n",
      "Running Model-72: 100%|██████████| 1/1 [00:00<00:00,  3.02it/s]\n"
     ]
    },
    {
     "name": "stdout",
     "output_type": "stream",
     "text": [
      "Fitting node Ridge-72...\n"
     ]
    },
    {
     "name": "stderr",
     "output_type": "stream",
     "text": [
      "Running Model-72: 372it [00:00, 4672.16it/s]           \n",
      "[I 2025-07-21 18:00:37,741] Trial 73 finished with value: 0.09771959090973653 and parameters: {'leak_rate': 0.6710551500881923, 'spectral_radius': 0.4000014793436647, 'alpha': 2.000067189109933e-07, 'input_scaling': 0.848209385904619, 'p': 0.30556976105660183}. Best is trial 21 with value: 0.07259725904658554.\n",
      "[W 2025-07-21 18:00:37,762] The parameter 'spectral_radius' in trial#74 is sampled independently instead of being sampled by multivariate TPE sampler. (optimization performance may be degraded). You can suppress this warning by setting `warn_independent_sampling` to `False` in the constructor of `TPESampler`, if this independent sampling is intended behavior.\n",
      "Running Model-73: 1488it [00:00, 3128.61it/s]<?, ?it/s]\n",
      "Running Model-73: 100%|██████████| 1/1 [00:00<00:00,  1.88it/s]\n"
     ]
    },
    {
     "name": "stdout",
     "output_type": "stream",
     "text": [
      "Fitting node Ridge-73...\n"
     ]
    },
    {
     "name": "stderr",
     "output_type": "stream",
     "text": [
      "Running Model-73: 372it [00:00, 3222.43it/s]           \n",
      "[I 2025-07-21 18:00:38,902] Trial 74 finished with value: 0.1449744817283503 and parameters: {'leak_rate': 0.9112750268174877, 'spectral_radius': 0.1266276405283015, 'alpha': 7.118451643028511e-07, 'input_scaling': 0.6791751079104755, 'p': 0.47313694512931703}. Best is trial 21 with value: 0.07259725904658554.\n",
      "[W 2025-07-21 18:00:38,923] The parameter 'spectral_radius' in trial#75 is sampled independently instead of being sampled by multivariate TPE sampler. (optimization performance may be degraded). You can suppress this warning by setting `warn_independent_sampling` to `False` in the constructor of `TPESampler`, if this independent sampling is intended behavior.\n",
      "Running Model-74: 1488it [00:00, 7179.44it/s]<?, ?it/s]\n",
      "Running Model-74: 100%|██████████| 1/1 [00:00<00:00,  4.33it/s]\n"
     ]
    },
    {
     "name": "stdout",
     "output_type": "stream",
     "text": [
      "Fitting node Ridge-74...\n"
     ]
    },
    {
     "name": "stderr",
     "output_type": "stream",
     "text": [
      "Running Model-74: 372it [00:00, 7881.36it/s]           \n",
      "[I 2025-07-21 18:00:39,513] Trial 75 finished with value: 0.09263203838049126 and parameters: {'leak_rate': 0.263398617077343, 'spectral_radius': 0.9311490084115726, 'alpha': 4.665216370982957e-05, 'input_scaling': 0.3081662116931645, 'p': 0.13673342525971183}. Best is trial 21 with value: 0.07259725904658554.\n",
      "[W 2025-07-21 18:00:39,535] The parameter 'spectral_radius' in trial#76 is sampled independently instead of being sampled by multivariate TPE sampler. (optimization performance may be degraded). You can suppress this warning by setting `warn_independent_sampling` to `False` in the constructor of `TPESampler`, if this independent sampling is intended behavior.\n",
      "Running Model-75: 1488it [00:00, 7882.54it/s]<?, ?it/s]\n",
      "Running Model-75: 100%|██████████| 1/1 [00:00<00:00,  4.80it/s]\n"
     ]
    },
    {
     "name": "stdout",
     "output_type": "stream",
     "text": [
      "Fitting node Ridge-75...\n"
     ]
    },
    {
     "name": "stderr",
     "output_type": "stream",
     "text": [
      "Running Model-75: 372it [00:00, 6885.41it/s]           \n",
      "[I 2025-07-21 18:00:40,102] Trial 76 finished with value: 0.08361400864633874 and parameters: {'leak_rate': 0.3080904361300999, 'spectral_radius': 0.8768348701797374, 'alpha': 0.00010401157766466485, 'input_scaling': 0.4878234762507597, 'p': 0.1049487802918222}. Best is trial 21 with value: 0.07259725904658554.\n",
      "[W 2025-07-21 18:00:40,125] The parameter 'spectral_radius' in trial#77 is sampled independently instead of being sampled by multivariate TPE sampler. (optimization performance may be degraded). You can suppress this warning by setting `warn_independent_sampling` to `False` in the constructor of `TPESampler`, if this independent sampling is intended behavior.\n",
      "Running Model-76: 1488it [00:00, 7150.43it/s]<?, ?it/s]\n",
      "Running Model-76: 100%|██████████| 1/1 [00:00<00:00,  4.41it/s]\n"
     ]
    },
    {
     "name": "stdout",
     "output_type": "stream",
     "text": [
      "Fitting node Ridge-76...\n"
     ]
    },
    {
     "name": "stderr",
     "output_type": "stream",
     "text": [
      "Running Model-76: 372it [00:00, 6511.07it/s]           \n",
      "[I 2025-07-21 18:00:40,724] Trial 77 finished with value: 0.1196149542817477 and parameters: {'leak_rate': 0.3732705231256582, 'spectral_radius': 0.8133459090637315, 'alpha': 6.938189883748731e-05, 'input_scaling': 0.42787890407971807, 'p': 0.15884293133234154}. Best is trial 21 with value: 0.07259725904658554.\n",
      "[W 2025-07-21 18:00:40,746] The parameter 'spectral_radius' in trial#78 is sampled independently instead of being sampled by multivariate TPE sampler. (optimization performance may be degraded). You can suppress this warning by setting `warn_independent_sampling` to `False` in the constructor of `TPESampler`, if this independent sampling is intended behavior.\n",
      "Running Model-77: 1488it [00:00, 6925.06it/s]<?, ?it/s]\n",
      "Running Model-77: 100%|██████████| 1/1 [00:00<00:00,  4.29it/s]\n"
     ]
    },
    {
     "name": "stdout",
     "output_type": "stream",
     "text": [
      "Fitting node Ridge-77...\n"
     ]
    },
    {
     "name": "stderr",
     "output_type": "stream",
     "text": [
      "Running Model-77: 372it [00:00, 7202.15it/s]           \n",
      "[I 2025-07-21 18:00:41,408] Trial 78 finished with value: 0.21363944770189913 and parameters: {'leak_rate': 0.31995010381848266, 'spectral_radius': 0.8794751881583748, 'alpha': 1.1109518667527113e-05, 'input_scaling': 0.6169948342900647, 'p': 0.1647505733331311}. Best is trial 21 with value: 0.07259725904658554.\n",
      "[W 2025-07-21 18:00:41,431] The parameter 'spectral_radius' in trial#79 is sampled independently instead of being sampled by multivariate TPE sampler. (optimization performance may be degraded). You can suppress this warning by setting `warn_independent_sampling` to `False` in the constructor of `TPESampler`, if this independent sampling is intended behavior.\n",
      "Running Model-78: 1488it [00:00, 6828.01it/s]<?, ?it/s]\n",
      "Running Model-78: 100%|██████████| 1/1 [00:00<00:00,  4.15it/s]\n"
     ]
    },
    {
     "name": "stdout",
     "output_type": "stream",
     "text": [
      "Fitting node Ridge-78...\n"
     ]
    },
    {
     "name": "stderr",
     "output_type": "stream",
     "text": [
      "Running Model-78: 372it [00:00, 6755.08it/s]           \n",
      "[I 2025-07-21 18:00:42,310] Trial 79 finished with value: 0.09000959159924073 and parameters: {'leak_rate': 0.18751401361845813, 'spectral_radius': 0.9612597306140225, 'alpha': 0.0009519127554952361, 'input_scaling': 0.4548510603210395, 'p': 0.15428115568765857}. Best is trial 21 with value: 0.07259725904658554.\n",
      "[W 2025-07-21 18:00:42,331] The parameter 'spectral_radius' in trial#80 is sampled independently instead of being sampled by multivariate TPE sampler. (optimization performance may be degraded). You can suppress this warning by setting `warn_independent_sampling` to `False` in the constructor of `TPESampler`, if this independent sampling is intended behavior.\n",
      "Running Model-79: 1488it [00:00, 5923.28it/s]<?, ?it/s]\n",
      "Running Model-79: 100%|██████████| 1/1 [00:00<00:00,  3.71it/s]\n"
     ]
    },
    {
     "name": "stdout",
     "output_type": "stream",
     "text": [
      "Fitting node Ridge-79...\n"
     ]
    },
    {
     "name": "stderr",
     "output_type": "stream",
     "text": [
      "Running Model-79: 372it [00:00, 5175.23it/s]           \n",
      "[I 2025-07-21 18:00:43,091] Trial 80 finished with value: 0.11948973410357562 and parameters: {'leak_rate': 0.32335499233010623, 'spectral_radius': 1.1538332345672282, 'alpha': 0.0018821668778014203, 'input_scaling': 0.5083310993323685, 'p': 0.21351175492729518}. Best is trial 21 with value: 0.07259725904658554.\n",
      "[W 2025-07-21 18:00:43,112] The parameter 'spectral_radius' in trial#81 is sampled independently instead of being sampled by multivariate TPE sampler. (optimization performance may be degraded). You can suppress this warning by setting `warn_independent_sampling` to `False` in the constructor of `TPESampler`, if this independent sampling is intended behavior.\n",
      "Running Model-80: 1488it [00:00, 5110.52it/s]<?, ?it/s]\n",
      "Running Model-80: 100%|██████████| 1/1 [00:00<00:00,  3.19it/s]\n"
     ]
    },
    {
     "name": "stdout",
     "output_type": "stream",
     "text": [
      "Fitting node Ridge-80...\n"
     ]
    },
    {
     "name": "stderr",
     "output_type": "stream",
     "text": [
      "Running Model-80: 372it [00:00, 3144.58it/s]           \n",
      "[I 2025-07-21 18:00:43,944] Trial 81 finished with value: 0.11032938318585968 and parameters: {'leak_rate': 0.1368416701425927, 'spectral_radius': 1.0214002612480935, 'alpha': 0.026131569504081128, 'input_scaling': 0.38047314449859443, 'p': 0.27026761764464097}. Best is trial 21 with value: 0.07259725904658554.\n",
      "[W 2025-07-21 18:00:43,965] The parameter 'spectral_radius' in trial#82 is sampled independently instead of being sampled by multivariate TPE sampler. (optimization performance may be degraded). You can suppress this warning by setting `warn_independent_sampling` to `False` in the constructor of `TPESampler`, if this independent sampling is intended behavior.\n",
      "Running Model-81: 1488it [00:00, 4415.12it/s]<?, ?it/s]\n",
      "Running Model-81: 100%|██████████| 1/1 [00:00<00:00,  2.81it/s]\n"
     ]
    },
    {
     "name": "stdout",
     "output_type": "stream",
     "text": [
      "Fitting node Ridge-81...\n"
     ]
    },
    {
     "name": "stderr",
     "output_type": "stream",
     "text": [
      "Running Model-81: 372it [00:00, 4071.45it/s]           \n",
      "[I 2025-07-21 18:00:44,959] Trial 82 finished with value: 0.09670003794710964 and parameters: {'leak_rate': 0.3048271946082774, 'spectral_radius': 0.9037981469447611, 'alpha': 3.30373399129459e-05, 'input_scaling': 0.4292560801082765, 'p': 0.3329230161065953}. Best is trial 21 with value: 0.07259725904658554.\n",
      "[W 2025-07-21 18:00:44,980] The parameter 'spectral_radius' in trial#83 is sampled independently instead of being sampled by multivariate TPE sampler. (optimization performance may be degraded). You can suppress this warning by setting `warn_independent_sampling` to `False` in the constructor of `TPESampler`, if this independent sampling is intended behavior.\n",
      "Running Model-82: 1488it [00:00, 6878.23it/s]<?, ?it/s]\n",
      "Running Model-82: 100%|██████████| 1/1 [00:00<00:00,  4.26it/s]\n"
     ]
    },
    {
     "name": "stdout",
     "output_type": "stream",
     "text": [
      "Fitting node Ridge-82...\n"
     ]
    },
    {
     "name": "stderr",
     "output_type": "stream",
     "text": [
      "Running Model-82: 372it [00:00, 4404.41it/s]           \n",
      "[I 2025-07-21 18:00:45,639] Trial 83 finished with value: 0.11665781843475377 and parameters: {'leak_rate': 0.1422266051336268, 'spectral_radius': 0.9935722253284184, 'alpha': 2.3118781047010645e-05, 'input_scaling': 0.5494407771703802, 'p': 0.16296384700102612}. Best is trial 21 with value: 0.07259725904658554.\n",
      "[W 2025-07-21 18:00:45,664] The parameter 'spectral_radius' in trial#84 is sampled independently instead of being sampled by multivariate TPE sampler. (optimization performance may be degraded). You can suppress this warning by setting `warn_independent_sampling` to `False` in the constructor of `TPESampler`, if this independent sampling is intended behavior.\n",
      "Running Model-83: 1488it [00:00, 5629.10it/s]<?, ?it/s]\n",
      "Running Model-83: 100%|██████████| 1/1 [00:00<00:00,  3.47it/s]\n"
     ]
    },
    {
     "name": "stdout",
     "output_type": "stream",
     "text": [
      "Fitting node Ridge-83...\n"
     ]
    },
    {
     "name": "stderr",
     "output_type": "stream",
     "text": [
      "Running Model-83: 372it [00:00, 4708.02it/s]           \n",
      "[I 2025-07-21 18:00:46,450] Trial 84 finished with value: 0.09227275827439492 and parameters: {'leak_rate': 0.2158904198353772, 'spectral_radius': 0.9455981345931489, 'alpha': 0.0003612300565220137, 'input_scaling': 0.34300918582391704, 'p': 0.23411123458154046}. Best is trial 21 with value: 0.07259725904658554.\n",
      "[W 2025-07-21 18:00:46,472] The parameter 'spectral_radius' in trial#85 is sampled independently instead of being sampled by multivariate TPE sampler. (optimization performance may be degraded). You can suppress this warning by setting `warn_independent_sampling` to `False` in the constructor of `TPESampler`, if this independent sampling is intended behavior.\n",
      "Running Model-84: 1488it [00:00, 5219.69it/s]<?, ?it/s]\n",
      "Running Model-84: 100%|██████████| 1/1 [00:00<00:00,  3.27it/s]\n"
     ]
    },
    {
     "name": "stdout",
     "output_type": "stream",
     "text": [
      "Fitting node Ridge-84...\n"
     ]
    },
    {
     "name": "stderr",
     "output_type": "stream",
     "text": [
      "Running Model-84: 372it [00:00, 4529.17it/s]           \n",
      "[I 2025-07-21 18:00:47,253] Trial 85 finished with value: 0.08924957369803772 and parameters: {'leak_rate': 0.2205064914515802, 'spectral_radius': 0.9663648952370493, 'alpha': 0.0003873876405260735, 'input_scaling': 0.39225470728600903, 'p': 0.2579833469688714}. Best is trial 21 with value: 0.07259725904658554.\n",
      "[W 2025-07-21 18:00:47,274] The parameter 'spectral_radius' in trial#86 is sampled independently instead of being sampled by multivariate TPE sampler. (optimization performance may be degraded). You can suppress this warning by setting `warn_independent_sampling` to `False` in the constructor of `TPESampler`, if this independent sampling is intended behavior.\n",
      "Running Model-85: 1488it [00:00, 8248.31it/s]<?, ?it/s]\n",
      "Running Model-85: 100%|██████████| 1/1 [00:00<00:00,  5.02it/s]\n"
     ]
    },
    {
     "name": "stdout",
     "output_type": "stream",
     "text": [
      "Fitting node Ridge-85...\n"
     ]
    },
    {
     "name": "stderr",
     "output_type": "stream",
     "text": [
      "Running Model-85: 372it [00:00, 7512.11it/s]           \n",
      "[I 2025-07-21 18:00:47,845] Trial 86 finished with value: 0.1179158370926643 and parameters: {'leak_rate': 0.17730786368270615, 'spectral_radius': 0.9944244936465648, 'alpha': 0.005979061758752471, 'input_scaling': 0.44643768447645055, 'p': 0.10031955088374757}. Best is trial 21 with value: 0.07259725904658554.\n",
      "[W 2025-07-21 18:00:47,867] The parameter 'spectral_radius' in trial#87 is sampled independently instead of being sampled by multivariate TPE sampler. (optimization performance may be degraded). You can suppress this warning by setting `warn_independent_sampling` to `False` in the constructor of `TPESampler`, if this independent sampling is intended behavior.\n",
      "Running Model-86: 1488it [00:00, 4179.87it/s]<?, ?it/s]\n",
      "Running Model-86: 100%|██████████| 1/1 [00:00<00:00,  2.68it/s]\n"
     ]
    },
    {
     "name": "stdout",
     "output_type": "stream",
     "text": [
      "Fitting node Ridge-86...\n"
     ]
    },
    {
     "name": "stderr",
     "output_type": "stream",
     "text": [
      "Running Model-86: 372it [00:00, 3813.49it/s]           \n",
      "[I 2025-07-21 18:00:48,729] Trial 87 finished with value: 0.14810259640592396 and parameters: {'leak_rate': 0.10493823249604611, 'spectral_radius': 1.0618690819835457, 'alpha': 0.000550686636438063, 'input_scaling': 0.4853545603810089, 'p': 0.3710687481775833}. Best is trial 21 with value: 0.07259725904658554.\n",
      "[W 2025-07-21 18:00:48,755] The parameter 'spectral_radius' in trial#88 is sampled independently instead of being sampled by multivariate TPE sampler. (optimization performance may be degraded). You can suppress this warning by setting `warn_independent_sampling` to `False` in the constructor of `TPESampler`, if this independent sampling is intended behavior.\n",
      "Running Model-87: 1488it [00:00, 1554.33it/s]<?, ?it/s]\n",
      "Running Model-87: 100%|██████████| 1/1 [00:00<00:00,  1.02it/s]\n"
     ]
    },
    {
     "name": "stdout",
     "output_type": "stream",
     "text": [
      "Fitting node Ridge-87...\n"
     ]
    },
    {
     "name": "stderr",
     "output_type": "stream",
     "text": [
      "Running Model-87: 372it [00:00, 1553.13it/s]           \n",
      "[I 2025-07-21 18:00:51,112] Trial 88 finished with value: 18.360983437902718 and parameters: {'leak_rate': 0.8589312366726005, 'spectral_radius': 1.4254840483354898, 'alpha': 2.3831890813585263e-05, 'input_scaling': 0.13967408533884457, 'p': 0.9857410774758237}. Best is trial 21 with value: 0.07259725904658554.\n",
      "[W 2025-07-21 18:00:51,134] The parameter 'spectral_radius' in trial#89 is sampled independently instead of being sampled by multivariate TPE sampler. (optimization performance may be degraded). You can suppress this warning by setting `warn_independent_sampling` to `False` in the constructor of `TPESampler`, if this independent sampling is intended behavior.\n",
      "Running Model-88: 1488it [00:00, 6495.96it/s]<?, ?it/s]\n",
      "Running Model-88: 100%|██████████| 1/1 [00:00<00:00,  4.05it/s]\n"
     ]
    },
    {
     "name": "stdout",
     "output_type": "stream",
     "text": [
      "Fitting node Ridge-88...\n"
     ]
    },
    {
     "name": "stderr",
     "output_type": "stream",
     "text": [
      "Running Model-88: 372it [00:00, 5381.80it/s]           \n",
      "[I 2025-07-21 18:00:51,773] Trial 89 finished with value: 0.09775932203991175 and parameters: {'leak_rate': 0.33090091122835574, 'spectral_radius': 0.8138653550179982, 'alpha': 1.310865321860305e-07, 'input_scaling': 0.11057825503366658, 'p': 0.17911831331798933}. Best is trial 21 with value: 0.07259725904658554.\n",
      "[W 2025-07-21 18:00:51,797] The parameter 'spectral_radius' in trial#90 is sampled independently instead of being sampled by multivariate TPE sampler. (optimization performance may be degraded). You can suppress this warning by setting `warn_independent_sampling` to `False` in the constructor of `TPESampler`, if this independent sampling is intended behavior.\n",
      "Running Model-89: 1488it [00:00, 1622.92it/s]<?, ?it/s]\n",
      "Running Model-89: 100%|██████████| 1/1 [00:00<00:00,  1.07it/s]\n"
     ]
    },
    {
     "name": "stdout",
     "output_type": "stream",
     "text": [
      "Fitting node Ridge-89...\n"
     ]
    },
    {
     "name": "stderr",
     "output_type": "stream",
     "text": [
      "Running Model-89: 372it [00:00, 1564.64it/s]           \n",
      "[I 2025-07-21 18:00:53,958] Trial 90 finished with value: 0.0838012664595274 and parameters: {'leak_rate': 0.27686840869555285, 'spectral_radius': 0.8791424662917097, 'alpha': 0.0008064843484938189, 'input_scaling': 0.6418065845762733, 'p': 0.9727198435478691}. Best is trial 21 with value: 0.07259725904658554.\n",
      "[W 2025-07-21 18:00:53,978] The parameter 'spectral_radius' in trial#91 is sampled independently instead of being sampled by multivariate TPE sampler. (optimization performance may be degraded). You can suppress this warning by setting `warn_independent_sampling` to `False` in the constructor of `TPESampler`, if this independent sampling is intended behavior.\n",
      "Running Model-90: 1488it [00:00, 1964.43it/s]<?, ?it/s]\n",
      "Running Model-90: 100%|██████████| 1/1 [00:00<00:00,  1.28it/s]\n"
     ]
    },
    {
     "name": "stdout",
     "output_type": "stream",
     "text": [
      "Fitting node Ridge-90...\n"
     ]
    },
    {
     "name": "stderr",
     "output_type": "stream",
     "text": [
      "Running Model-90: 372it [00:00, 1992.52it/s]           \n",
      "[I 2025-07-21 18:00:55,544] Trial 91 finished with value: 0.1393919646955237 and parameters: {'leak_rate': 0.34104341766702373, 'spectral_radius': 0.8394902637744995, 'alpha': 0.0007346897093286458, 'input_scaling': 0.5765844379015738, 'p': 0.8662394863864278}. Best is trial 21 with value: 0.07259725904658554.\n",
      "[W 2025-07-21 18:00:55,565] The parameter 'spectral_radius' in trial#92 is sampled independently instead of being sampled by multivariate TPE sampler. (optimization performance may be degraded). You can suppress this warning by setting `warn_independent_sampling` to `False` in the constructor of `TPESampler`, if this independent sampling is intended behavior.\n",
      "Running Model-91: 1488it [00:00, 7535.16it/s]<?, ?it/s]\n",
      "Running Model-91: 100%|██████████| 1/1 [00:00<00:00,  4.61it/s]\n"
     ]
    },
    {
     "name": "stdout",
     "output_type": "stream",
     "text": [
      "Fitting node Ridge-91...\n"
     ]
    },
    {
     "name": "stderr",
     "output_type": "stream",
     "text": [
      "Running Model-91: 372it [00:00, 7359.33it/s]           \n",
      "[I 2025-07-21 18:00:56,283] Trial 92 finished with value: 0.08562039118491525 and parameters: {'leak_rate': 0.2760780307212202, 'spectral_radius': 0.8930108151929246, 'alpha': 0.0007275447702360214, 'input_scaling': 0.5840801658688201, 'p': 0.13414229053767135}. Best is trial 21 with value: 0.07259725904658554.\n",
      "[W 2025-07-21 18:00:56,305] The parameter 'spectral_radius' in trial#93 is sampled independently instead of being sampled by multivariate TPE sampler. (optimization performance may be degraded). You can suppress this warning by setting `warn_independent_sampling` to `False` in the constructor of `TPESampler`, if this independent sampling is intended behavior.\n",
      "Running Model-92: 1488it [00:00, 7569.84it/s]<?, ?it/s]\n",
      "Running Model-92: 100%|██████████| 1/1 [00:00<00:00,  4.62it/s]\n"
     ]
    },
    {
     "name": "stdout",
     "output_type": "stream",
     "text": [
      "Fitting node Ridge-92...\n"
     ]
    },
    {
     "name": "stderr",
     "output_type": "stream",
     "text": [
      "Running Model-92: 372it [00:00, 7715.30it/s]           \n",
      "[I 2025-07-21 18:00:57,002] Trial 93 finished with value: 0.12062435618879315 and parameters: {'leak_rate': 0.16207919575214996, 'spectral_radius': 0.9624104191257956, 'alpha': 0.00024220460910997723, 'input_scaling': 0.4153565550123813, 'p': 0.1345491384298862}. Best is trial 21 with value: 0.07259725904658554.\n",
      "[W 2025-07-21 18:00:57,022] The parameter 'spectral_radius' in trial#94 is sampled independently instead of being sampled by multivariate TPE sampler. (optimization performance may be degraded). You can suppress this warning by setting `warn_independent_sampling` to `False` in the constructor of `TPESampler`, if this independent sampling is intended behavior.\n",
      "Running Model-93: 1488it [00:01, 1414.62it/s]<?, ?it/s]\n",
      "Running Model-93: 100%|██████████| 1/1 [00:01<00:00,  1.10s/it]\n"
     ]
    },
    {
     "name": "stdout",
     "output_type": "stream",
     "text": [
      "Fitting node Ridge-93...\n"
     ]
    },
    {
     "name": "stderr",
     "output_type": "stream",
     "text": [
      "Running Model-93: 372it [00:00, 1003.10it/s]           \n",
      "[I 2025-07-21 18:00:59,368] Trial 94 finished with value: 0.1230646369254651 and parameters: {'leak_rate': 0.13327148476804046, 'spectral_radius': 1.001890640953256, 'alpha': 0.0002623241045186867, 'input_scaling': 0.599177393966844, 'p': 0.9946206947494934}. Best is trial 21 with value: 0.07259725904658554.\n",
      "[W 2025-07-21 18:00:59,390] The parameter 'spectral_radius' in trial#95 is sampled independently instead of being sampled by multivariate TPE sampler. (optimization performance may be degraded). You can suppress this warning by setting `warn_independent_sampling` to `False` in the constructor of `TPESampler`, if this independent sampling is intended behavior.\n",
      "Running Model-94: 1488it [00:00, 4558.09it/s]<?, ?it/s]\n",
      "Running Model-94: 100%|██████████| 1/1 [00:00<00:00,  2.87it/s]\n"
     ]
    },
    {
     "name": "stdout",
     "output_type": "stream",
     "text": [
      "Fitting node Ridge-94...\n"
     ]
    },
    {
     "name": "stderr",
     "output_type": "stream",
     "text": [
      "Running Model-94: 372it [00:00, 4955.15it/s]           \n",
      "[I 2025-07-21 18:01:00,337] Trial 95 finished with value: 0.10662482988430895 and parameters: {'leak_rate': 0.2867960141210316, 'spectral_radius': 0.8506067017796158, 'alpha': 0.0011536004781140757, 'input_scaling': 0.7256555144209226, 'p': 0.21302217420999828}. Best is trial 21 with value: 0.07259725904658554.\n",
      "[W 2025-07-21 18:01:00,362] The parameter 'spectral_radius' in trial#96 is sampled independently instead of being sampled by multivariate TPE sampler. (optimization performance may be degraded). You can suppress this warning by setting `warn_independent_sampling` to `False` in the constructor of `TPESampler`, if this independent sampling is intended behavior.\n",
      "Running Model-95: 1488it [00:00, 7206.52it/s]<?, ?it/s]\n",
      "Running Model-95: 100%|██████████| 1/1 [00:00<00:00,  4.36it/s]\n"
     ]
    },
    {
     "name": "stdout",
     "output_type": "stream",
     "text": [
      "Fitting node Ridge-95...\n"
     ]
    },
    {
     "name": "stderr",
     "output_type": "stream",
     "text": [
      "Running Model-95: 372it [00:00, 7791.70it/s]           \n",
      "[I 2025-07-21 18:01:01,039] Trial 96 finished with value: 0.12032322457429043 and parameters: {'leak_rate': 0.43791372791195093, 'spectral_radius': 0.7734110167151363, 'alpha': 0.00016481946103154583, 'input_scaling': 0.6096128690525852, 'p': 0.12566560790506925}. Best is trial 21 with value: 0.07259725904658554.\n",
      "[W 2025-07-21 18:01:01,060] The parameter 'spectral_radius' in trial#97 is sampled independently instead of being sampled by multivariate TPE sampler. (optimization performance may be degraded). You can suppress this warning by setting `warn_independent_sampling` to `False` in the constructor of `TPESampler`, if this independent sampling is intended behavior.\n",
      "Running Model-96: 1488it [00:00, 2350.15it/s]<?, ?it/s]\n",
      "Running Model-96: 100%|██████████| 1/1 [00:00<00:00,  1.53it/s]\n"
     ]
    },
    {
     "name": "stdout",
     "output_type": "stream",
     "text": [
      "Fitting node Ridge-96...\n"
     ]
    },
    {
     "name": "stderr",
     "output_type": "stream",
     "text": [
      "Running Model-96: 372it [00:00, 2260.95it/s]           \n",
      "[I 2025-07-21 18:01:02,532] Trial 97 finished with value: 0.143167609516395 and parameters: {'leak_rate': 0.2811029019544977, 'spectral_radius': 0.8861654171038591, 'alpha': 0.09984012161459613, 'input_scaling': 0.7811130295041877, 'p': 0.7517841867409452}. Best is trial 21 with value: 0.07259725904658554.\n",
      "[W 2025-07-21 18:01:02,553] The parameter 'spectral_radius' in trial#98 is sampled independently instead of being sampled by multivariate TPE sampler. (optimization performance may be degraded). You can suppress this warning by setting `warn_independent_sampling` to `False` in the constructor of `TPESampler`, if this independent sampling is intended behavior.\n",
      "Running Model-97: 1488it [00:00, 6686.03it/s]<?, ?it/s]\n",
      "Running Model-97: 100%|██████████| 1/1 [00:00<00:00,  4.10it/s]\n"
     ]
    },
    {
     "name": "stdout",
     "output_type": "stream",
     "text": [
      "Fitting node Ridge-97...\n"
     ]
    },
    {
     "name": "stderr",
     "output_type": "stream",
     "text": [
      "Running Model-97: 372it [00:00, 4942.17it/s]           \n",
      "[I 2025-07-21 18:01:03,220] Trial 98 finished with value: 0.15580514907886153 and parameters: {'leak_rate': 0.29940285980219844, 'spectral_radius': 0.8790150113843918, 'alpha': 0.0034313681704932334, 'input_scaling': 0.5772297280811565, 'p': 0.173864548431987}. Best is trial 21 with value: 0.07259725904658554.\n",
      "[W 2025-07-21 18:01:03,248] The parameter 'spectral_radius' in trial#99 is sampled independently instead of being sampled by multivariate TPE sampler. (optimization performance may be degraded). You can suppress this warning by setting `warn_independent_sampling` to `False` in the constructor of `TPESampler`, if this independent sampling is intended behavior.\n",
      "Running Model-98: 1488it [00:00, 2029.38it/s]<?, ?it/s]\n",
      "Running Model-98: 100%|██████████| 1/1 [00:00<00:00,  1.33it/s]\n"
     ]
    },
    {
     "name": "stdout",
     "output_type": "stream",
     "text": [
      "Fitting node Ridge-98...\n"
     ]
    },
    {
     "name": "stderr",
     "output_type": "stream",
     "text": [
      "Running Model-98: 372it [00:00, 2258.88it/s]           \n",
      "[I 2025-07-21 18:01:05,231] Trial 99 finished with value: 0.19629398785907431 and parameters: {'leak_rate': 0.1413016597872408, 'spectral_radius': 1.0129154560324922, 'alpha': 0.0005076245366443143, 'input_scaling': 0.7153718117846376, 'p': 0.7556656203705263}. Best is trial 21 with value: 0.07259725904658554.\n",
      "[W 2025-07-21 18:01:05,252] The parameter 'spectral_radius' in trial#100 is sampled independently instead of being sampled by multivariate TPE sampler. (optimization performance may be degraded). You can suppress this warning by setting `warn_independent_sampling` to `False` in the constructor of `TPESampler`, if this independent sampling is intended behavior.\n",
      "Running Model-99: 1488it [00:00, 1610.65it/s]<?, ?it/s]\n",
      "Running Model-99: 100%|██████████| 1/1 [00:00<00:00,  1.06it/s]\n"
     ]
    },
    {
     "name": "stdout",
     "output_type": "stream",
     "text": [
      "Fitting node Ridge-99...\n"
     ]
    },
    {
     "name": "stderr",
     "output_type": "stream",
     "text": [
      "Running Model-99: 372it [00:00, 1621.19it/s]           \n",
      "[I 2025-07-21 18:01:07,808] Trial 100 finished with value: 0.2934393008577094 and parameters: {'leak_rate': 0.4436098370289399, 'spectral_radius': 1.1983905240303465, 'alpha': 0.0015092853374467558, 'input_scaling': 0.7880517996232824, 'p': 0.9430235780884436}. Best is trial 21 with value: 0.07259725904658554.\n",
      "[W 2025-07-21 18:01:07,829] The parameter 'spectral_radius' in trial#101 is sampled independently instead of being sampled by multivariate TPE sampler. (optimization performance may be degraded). You can suppress this warning by setting `warn_independent_sampling` to `False` in the constructor of `TPESampler`, if this independent sampling is intended behavior.\n",
      "Running Model-100: 1488it [00:00, 1637.64it/s]<?, ?it/s]\n",
      "Running Model-100: 100%|██████████| 1/1 [00:00<00:00,  1.08it/s]\n"
     ]
    },
    {
     "name": "stdout",
     "output_type": "stream",
     "text": [
      "Fitting node Ridge-100...\n"
     ]
    },
    {
     "name": "stderr",
     "output_type": "stream",
     "text": [
      "Running Model-100: 372it [00:00, 1641.32it/s]           \n",
      "[I 2025-07-21 18:01:09,962] Trial 101 finished with value: 0.18742716962943615 and parameters: {'leak_rate': 0.33859395727098796, 'spectral_radius': 0.8249883169375659, 'alpha': 6.57313749407801e-06, 'input_scaling': 0.7652838445497369, 'p': 0.9625350316475373}. Best is trial 21 with value: 0.07259725904658554.\n",
      "[W 2025-07-21 18:01:09,982] The parameter 'spectral_radius' in trial#102 is sampled independently instead of being sampled by multivariate TPE sampler. (optimization performance may be degraded). You can suppress this warning by setting `warn_independent_sampling` to `False` in the constructor of `TPESampler`, if this independent sampling is intended behavior.\n",
      "Running Model-101: 1488it [00:00, 5053.55it/s]<?, ?it/s]\n",
      "Running Model-101: 100%|██████████| 1/1 [00:00<00:00,  3.20it/s]\n"
     ]
    },
    {
     "name": "stdout",
     "output_type": "stream",
     "text": [
      "Fitting node Ridge-101...\n"
     ]
    },
    {
     "name": "stderr",
     "output_type": "stream",
     "text": [
      "Running Model-101: 372it [00:00, 5081.79it/s]           \n",
      "[I 2025-07-21 18:01:10,783] Trial 102 finished with value: 0.09012248897128493 and parameters: {'leak_rate': 0.2945527935846763, 'spectral_radius': 0.9283310312648156, 'alpha': 2.273113634330463e-06, 'input_scaling': 0.20603664398612864, 'p': 0.2956882287586252}. Best is trial 21 with value: 0.07259725904658554.\n",
      "[W 2025-07-21 18:01:10,804] The parameter 'spectral_radius' in trial#103 is sampled independently instead of being sampled by multivariate TPE sampler. (optimization performance may be degraded). You can suppress this warning by setting `warn_independent_sampling` to `False` in the constructor of `TPESampler`, if this independent sampling is intended behavior.\n",
      "Running Model-102: 1488it [00:00, 1730.87it/s]<?, ?it/s]\n",
      "Running Model-102: 100%|██████████| 1/1 [00:00<00:00,  1.14it/s]\n"
     ]
    },
    {
     "name": "stdout",
     "output_type": "stream",
     "text": [
      "Fitting node Ridge-102...\n"
     ]
    },
    {
     "name": "stderr",
     "output_type": "stream",
     "text": [
      "Running Model-102: 372it [00:00, 1755.30it/s]           \n",
      "[I 2025-07-21 18:01:13,671] Trial 103 finished with value: 0.11466938777755609 and parameters: {'leak_rate': 0.277021748647778, 'spectral_radius': 0.9113963057738238, 'alpha': 0.0036412529112944355, 'input_scaling': 0.6214979099093848, 'p': 0.928432062910494}. Best is trial 21 with value: 0.07259725904658554.\n",
      "[W 2025-07-21 18:01:13,692] The parameter 'spectral_radius' in trial#104 is sampled independently instead of being sampled by multivariate TPE sampler. (optimization performance may be degraded). You can suppress this warning by setting `warn_independent_sampling` to `False` in the constructor of `TPESampler`, if this independent sampling is intended behavior.\n",
      "Running Model-103: 1488it [00:00, 1544.27it/s]<?, ?it/s]\n",
      "Running Model-103: 100%|██████████| 1/1 [00:00<00:00,  1.02it/s]\n"
     ]
    },
    {
     "name": "stdout",
     "output_type": "stream",
     "text": [
      "Fitting node Ridge-103...\n"
     ]
    },
    {
     "name": "stderr",
     "output_type": "stream",
     "text": [
      "Running Model-103: 372it [00:00, 1514.20it/s]           \n",
      "[I 2025-07-21 18:01:15,563] Trial 104 finished with value: 0.08677990731608588 and parameters: {'leak_rate': 0.26635887277849957, 'spectral_radius': 0.9286379174358016, 'alpha': 0.005756618592636111, 'input_scaling': 0.7500832698895017, 'p': 0.9629074590379553}. Best is trial 21 with value: 0.07259725904658554.\n",
      "[W 2025-07-21 18:01:15,585] The parameter 'spectral_radius' in trial#105 is sampled independently instead of being sampled by multivariate TPE sampler. (optimization performance may be degraded). You can suppress this warning by setting `warn_independent_sampling` to `False` in the constructor of `TPESampler`, if this independent sampling is intended behavior.\n",
      "Running Model-104: 1488it [00:00, 1556.20it/s]<?, ?it/s]\n",
      "Running Model-104: 100%|██████████| 1/1 [00:00<00:00,  1.03it/s]\n"
     ]
    },
    {
     "name": "stdout",
     "output_type": "stream",
     "text": [
      "Fitting node Ridge-104...\n"
     ]
    },
    {
     "name": "stderr",
     "output_type": "stream",
     "text": [
      "Running Model-104: 372it [00:00, 1472.21it/s]           \n",
      "[I 2025-07-21 18:01:17,709] Trial 105 finished with value: 0.09804988624942403 and parameters: {'leak_rate': 0.1286668820734055, 'spectral_radius': 0.9945218393573806, 'alpha': 0.007427161110516089, 'input_scaling': 0.6938522789323024, 'p': 0.9912480039894869}. Best is trial 21 with value: 0.07259725904658554.\n",
      "[W 2025-07-21 18:01:17,735] The parameter 'spectral_radius' in trial#106 is sampled independently instead of being sampled by multivariate TPE sampler. (optimization performance may be degraded). You can suppress this warning by setting `warn_independent_sampling` to `False` in the constructor of `TPESampler`, if this independent sampling is intended behavior.\n",
      "Running Model-105: 1488it [00:00, 1560.26it/s]<?, ?it/s]\n",
      "Running Model-105: 100%|██████████| 1/1 [00:00<00:00,  1.03it/s]\n"
     ]
    },
    {
     "name": "stdout",
     "output_type": "stream",
     "text": [
      "Fitting node Ridge-105...\n"
     ]
    },
    {
     "name": "stderr",
     "output_type": "stream",
     "text": [
      "Running Model-105: 372it [00:00, 1721.44it/s]           \n",
      "[I 2025-07-21 18:01:21,177] Trial 106 finished with value: 0.1427527883341774 and parameters: {'leak_rate': 0.30009472485319916, 'spectral_radius': 0.871468696674678, 'alpha': 0.017604802447672842, 'input_scaling': 0.9801493717964873, 'p': 0.9191027234803076}. Best is trial 21 with value: 0.07259725904658554.\n",
      "[W 2025-07-21 18:01:21,197] The parameter 'spectral_radius' in trial#107 is sampled independently instead of being sampled by multivariate TPE sampler. (optimization performance may be degraded). You can suppress this warning by setting `warn_independent_sampling` to `False` in the constructor of `TPESampler`, if this independent sampling is intended behavior.\n",
      "Running Model-106: 1488it [00:00, 7719.17it/s]<?, ?it/s]\n",
      "Running Model-106: 100%|██████████| 1/1 [00:00<00:00,  4.75it/s]\n"
     ]
    },
    {
     "name": "stdout",
     "output_type": "stream",
     "text": [
      "Fitting node Ridge-106...\n"
     ]
    },
    {
     "name": "stderr",
     "output_type": "stream",
     "text": [
      "Running Model-106: 372it [00:00, 7625.26it/s]           \n",
      "[I 2025-07-21 18:01:21,781] Trial 107 finished with value: 0.13780486259878522 and parameters: {'leak_rate': 0.31080890900773894, 'spectral_radius': 0.8580229734103662, 'alpha': 0.001387360760512113, 'input_scaling': 0.3951856752577343, 'p': 0.12311888158995585}. Best is trial 21 with value: 0.07259725904658554.\n",
      "[W 2025-07-21 18:01:21,802] The parameter 'spectral_radius' in trial#108 is sampled independently instead of being sampled by multivariate TPE sampler. (optimization performance may be degraded). You can suppress this warning by setting `warn_independent_sampling` to `False` in the constructor of `TPESampler`, if this independent sampling is intended behavior.\n",
      "Running Model-107: 1488it [00:00, 1644.88it/s]<?, ?it/s]\n",
      "Running Model-107: 100%|██████████| 1/1 [00:00<00:00,  1.08it/s]\n"
     ]
    },
    {
     "name": "stdout",
     "output_type": "stream",
     "text": [
      "Fitting node Ridge-107...\n"
     ]
    },
    {
     "name": "stderr",
     "output_type": "stream",
     "text": [
      "Running Model-107: 372it [00:00, 1586.04it/s]           \n",
      "[I 2025-07-21 18:01:24,485] Trial 108 finished with value: 0.13007671374208643 and parameters: {'leak_rate': 0.28809598153014276, 'spectral_radius': 0.9260553718627421, 'alpha': 0.052052014622117525, 'input_scaling': 0.6988438959003279, 'p': 0.9525252039567176}. Best is trial 21 with value: 0.07259725904658554.\n",
      "[W 2025-07-21 18:01:24,505] The parameter 'spectral_radius' in trial#109 is sampled independently instead of being sampled by multivariate TPE sampler. (optimization performance may be degraded). You can suppress this warning by setting `warn_independent_sampling` to `False` in the constructor of `TPESampler`, if this independent sampling is intended behavior.\n",
      "Running Model-108: 1488it [00:00, 2417.60it/s]<?, ?it/s]\n",
      "Running Model-108: 100%|██████████| 1/1 [00:00<00:00,  1.57it/s]\n"
     ]
    },
    {
     "name": "stdout",
     "output_type": "stream",
     "text": [
      "Fitting node Ridge-108...\n"
     ]
    },
    {
     "name": "stderr",
     "output_type": "stream",
     "text": [
      "Running Model-108: 372it [00:00, 2354.79it/s]           \n",
      "[I 2025-07-21 18:01:25,950] Trial 109 finished with value: 0.4994714803484443 and parameters: {'leak_rate': 0.9436678790226817, 'spectral_radius': 1.8175732288656683, 'alpha': 0.006011299494404798, 'input_scaling': 0.6955731770134719, 'p': 0.7585706637567123}. Best is trial 21 with value: 0.07259725904658554.\n",
      "[W 2025-07-21 18:01:25,970] The parameter 'spectral_radius' in trial#110 is sampled independently instead of being sampled by multivariate TPE sampler. (optimization performance may be degraded). You can suppress this warning by setting `warn_independent_sampling` to `False` in the constructor of `TPESampler`, if this independent sampling is intended behavior.\n",
      "Running Model-109: 1488it [00:00, 5068.90it/s]<?, ?it/s]\n",
      "Running Model-109: 100%|██████████| 1/1 [00:00<00:00,  3.20it/s]\n"
     ]
    },
    {
     "name": "stdout",
     "output_type": "stream",
     "text": [
      "Fitting node Ridge-109...\n"
     ]
    },
    {
     "name": "stderr",
     "output_type": "stream",
     "text": [
      "Running Model-109: 372it [00:00, 4955.70it/s]           \n",
      "[I 2025-07-21 18:01:26,687] Trial 110 finished with value: 0.11888576784939543 and parameters: {'leak_rate': 0.320092308532796, 'spectral_radius': 0.8052541777093258, 'alpha': 1.2135765811999629e-06, 'input_scaling': 0.2970013329510781, 'p': 0.3038547192803648}. Best is trial 21 with value: 0.07259725904658554.\n"
     ]
    }
   ],
   "source": [
    "from rcpy.hypopt import build_objective, run_optimization\n",
    "\n",
    "reservoir_units = 1000\n",
    "loss_function = 'rmse' # Options: 'rmse', 'soft_horizon'\n",
    "\n",
    "seed = np.random.randint(0, 1000000)  # Random seed for reproducibility\n",
    "total_trials = 100\n",
    "timeout_hours = 48\n",
    "\n",
    "objective_func = build_objective(data, forecast_length, reservoir_units, loss_function, seed)\n",
    "\n",
    "system = \"enso\"\n",
    "study_name = f\"{system}_N{reservoir_units}_{loss_function}_rcpy\"\n",
    "db_file = f\"{study_name}.db\"\n",
    "study = run_optimization(study_name, db_file, objective_func, total_trials, timeout_hours)"
   ]
  },
  {
   "cell_type": "code",
   "execution_count": 8,
   "id": "e4824292",
   "metadata": {},
   "outputs": [
    {
     "name": "stdout",
     "output_type": "stream",
     "text": [
      "For seed 277750:\n",
      "Best trial: FrozenTrial(number=21, state=TrialState.COMPLETE, values=[0.07259725904658554], datetime_start=datetime.datetime(2025, 7, 21, 17, 59, 31, 421646), datetime_complete=datetime.datetime(2025, 7, 21, 17, 59, 32, 135254), params={'leak_rate': 0.30035428717341195, 'spectral_radius': 0.8905985513583052, 'alpha': 5.31693676714526e-07, 'input_scaling': 0.13940355264063625, 'p': 0.2198190207560327}, user_attrs={}, system_attrs={}, intermediate_values={0: 0.07259725904658554}, distributions={'leak_rate': FloatDistribution(high=1.0, log=False, low=0.1, step=None), 'spectral_radius': FloatDistribution(high=2.0, log=True, low=0.699645712826588, step=None), 'alpha': FloatDistribution(high=0.1, log=True, low=1e-07, step=None), 'input_scaling': FloatDistribution(high=1.0, log=False, low=0.1, step=None), 'p': FloatDistribution(high=1.0, log=False, low=0.1, step=None)}, trial_id=22, value=None)\n",
      "Best value: 0.07259725904658554\n",
      "Best parameters: {'leak_rate': 0.30035428717341195, 'spectral_radius': 0.8905985513583052, 'alpha': 5.31693676714526e-07, 'input_scaling': 0.13940355264063625, 'p': 0.2198190207560327}\n"
     ]
    }
   ],
   "source": [
    "from rcpy.hypopt import save_best_params\n",
    "\n",
    "print(f\"For seed {seed}:\")\n",
    "print(\"Best trial:\", study.best_trial)\n",
    "print(\"Best value:\", study.best_value)\n",
    "print(\"Best parameters:\", study.best_params)\n",
    "\n",
    "save_best_params(study, seed, f\"{study_name}_params.json\")"
   ]
  },
  {
   "cell_type": "code",
   "execution_count": 12,
   "id": "81ed861e",
   "metadata": {},
   "outputs": [
    {
     "data": {
      "application/vnd.plotly.v1+json": {
       "config": {
        "plotlyServerURL": "https://plot.ly"
       },
       "data": [
        {
         "mode": "markers",
         "name": "Objective Value",
         "type": "scatter",
         "x": [
          1,
          2,
          3,
          4,
          5,
          6,
          7,
          8,
          9,
          10,
          11,
          12,
          13,
          14,
          15,
          16,
          17,
          18,
          19,
          20,
          21,
          22,
          23,
          24,
          25,
          26,
          27,
          28,
          29,
          30,
          31,
          32,
          33,
          34,
          35,
          36,
          37,
          38,
          39,
          40,
          41,
          42,
          43,
          44,
          45,
          46,
          47,
          48,
          49,
          50,
          51,
          52,
          53,
          54,
          55,
          56,
          57,
          58,
          59,
          60,
          61,
          62,
          63,
          64,
          65,
          66,
          67,
          68,
          69,
          70,
          71,
          72,
          73,
          74,
          75,
          76,
          77,
          78,
          79,
          80,
          81,
          82,
          83,
          84,
          85,
          86,
          87,
          88,
          89,
          90,
          91,
          92,
          93,
          94,
          95,
          96,
          97,
          98,
          99,
          100,
          101,
          102,
          103,
          104,
          105,
          106,
          107,
          108,
          109,
          110
         ],
         "y": [
          0.2913369517132502,
          0.3154428334276231,
          0.13241876512540485,
          0.174404312659924,
          0.10732137480160418,
          0.97190300604972,
          0.16985352354569747,
          0.169513218551735,
          0.10964530767130816,
          3.343409541017799,
          0.10018497517041855,
          0.10055017163600558,
          0.09301559078262041,
          0.1428451137297594,
          0.2159935719831623,
          0.14898781524291205,
          0.15614813458975788,
          0.13713268314630236,
          0.13315969954964305,
          0.12229819768809787,
          0.07259725904658554,
          0.1710304364547444,
          0.09535663820486141,
          0.13085275570765487,
          0.09185221906857771,
          0.09600646813337217,
          0.1946474640535444,
          0.1886667091832694,
          0.14421142730602798,
          0.45546142944381307,
          0.12123963339305831,
          0.10059131097269464,
          0.09188988480320771,
          0.09307283744833697,
          0.10101545534406035,
          0.10242600504924572,
          0.09457852466400297,
          0.12182646811017507,
          0.15270274047236757,
          0.13014158041730695,
          0.2855164450222574,
          0.10863022393333568,
          0.09621602389278598,
          0.142050771909237,
          0.131465743168781,
          0.10963365100371474,
          0.11285452710352299,
          0.08934726324028959,
          0.08528571701626197,
          0.11926505543726566,
          0.131918000803969,
          0.11632981718576307,
          0.14524442622760272,
          0.0997046227182716,
          0.11383562297407979,
          0.10465713149489018,
          0.12524937204610742,
          0.10772711558490497,
          0.16762895922456636,
          0.13537068096195526,
          0.1028242890513239,
          0.1062653458608334,
          0.1387860996881288,
          0.19998615637662986,
          0.14088158112199517,
          0.08700671198028537,
          0.20306019941006817,
          0.15223312859586205,
          0.570659498374166,
          0.14149092885195302,
          0.14230180690350855,
          0.1292115136973808,
          0.09771959090973653,
          0.1449744817283503,
          0.09263203838049126,
          0.08361400864633874,
          0.1196149542817477,
          0.21363944770189913,
          0.09000959159924073,
          0.11948973410357562,
          0.11032938318585968,
          0.09670003794710964,
          0.11665781843475377,
          0.09227275827439492,
          0.08924957369803772,
          0.1179158370926643,
          0.14810259640592396,
          18.360983437902718,
          0.09775932203991175,
          0.0838012664595274,
          0.1393919646955237,
          0.08562039118491525,
          0.12062435618879315,
          0.1230646369254651,
          0.10662482988430895,
          0.12032322457429043,
          0.143167609516395,
          0.15580514907886153,
          0.19629398785907431,
          0.2934393008577094,
          0.18742716962943615,
          0.09012248897128493,
          0.11466938777755609,
          0.08677990731608588,
          0.09804988624942403,
          0.1427527883341774,
          0.13780486259878522,
          0.13007671374208643,
          0.4994714803484443,
          0.11888576784939543
         ]
        },
        {
         "mode": "lines",
         "name": "Best Value",
         "type": "scatter",
         "x": [
          0,
          1,
          2,
          3,
          4,
          5,
          6,
          7,
          8,
          9,
          10,
          11,
          12,
          13,
          14,
          15,
          16,
          17,
          18,
          19,
          20,
          21,
          22,
          23,
          24,
          25,
          26,
          27,
          28,
          29,
          30,
          31,
          32,
          33,
          34,
          35,
          36,
          37,
          38,
          39,
          40,
          41,
          42,
          43,
          44,
          45,
          46,
          47,
          48,
          49,
          50,
          51,
          52,
          53,
          54,
          55,
          56,
          57,
          58,
          59,
          60,
          61,
          62,
          63,
          64,
          65,
          66,
          67,
          68,
          69,
          70,
          71,
          72,
          73,
          74,
          75,
          76,
          77,
          78,
          79,
          80,
          81,
          82,
          83,
          84,
          85,
          86,
          87,
          88,
          89,
          90,
          91,
          92,
          93,
          94,
          95,
          96,
          97,
          98,
          99,
          100,
          101,
          102,
          103,
          104,
          105,
          106,
          107,
          108,
          109,
          110
         ],
         "y": [
          null,
          0.2913369517132502,
          0.2913369517132502,
          0.13241876512540485,
          0.13241876512540485,
          0.10732137480160418,
          0.10732137480160418,
          0.10732137480160418,
          0.10732137480160418,
          0.10732137480160418,
          0.10732137480160418,
          0.10018497517041855,
          0.10018497517041855,
          0.09301559078262041,
          0.09301559078262041,
          0.09301559078262041,
          0.09301559078262041,
          0.09301559078262041,
          0.09301559078262041,
          0.09301559078262041,
          0.09301559078262041,
          0.07259725904658554,
          0.07259725904658554,
          0.07259725904658554,
          0.07259725904658554,
          0.07259725904658554,
          0.07259725904658554,
          0.07259725904658554,
          0.07259725904658554,
          0.07259725904658554,
          0.07259725904658554,
          0.07259725904658554,
          0.07259725904658554,
          0.07259725904658554,
          0.07259725904658554,
          0.07259725904658554,
          0.07259725904658554,
          0.07259725904658554,
          0.07259725904658554,
          0.07259725904658554,
          0.07259725904658554,
          0.07259725904658554,
          0.07259725904658554,
          0.07259725904658554,
          0.07259725904658554,
          0.07259725904658554,
          0.07259725904658554,
          0.07259725904658554,
          0.07259725904658554,
          0.07259725904658554,
          0.07259725904658554,
          0.07259725904658554,
          0.07259725904658554,
          0.07259725904658554,
          0.07259725904658554,
          0.07259725904658554,
          0.07259725904658554,
          0.07259725904658554,
          0.07259725904658554,
          0.07259725904658554,
          0.07259725904658554,
          0.07259725904658554,
          0.07259725904658554,
          0.07259725904658554,
          0.07259725904658554,
          0.07259725904658554,
          0.07259725904658554,
          0.07259725904658554,
          0.07259725904658554,
          0.07259725904658554,
          0.07259725904658554,
          0.07259725904658554,
          0.07259725904658554,
          0.07259725904658554,
          0.07259725904658554,
          0.07259725904658554,
          0.07259725904658554,
          0.07259725904658554,
          0.07259725904658554,
          0.07259725904658554,
          0.07259725904658554,
          0.07259725904658554,
          0.07259725904658554,
          0.07259725904658554,
          0.07259725904658554,
          0.07259725904658554,
          0.07259725904658554,
          0.07259725904658554,
          0.07259725904658554,
          0.07259725904658554,
          0.07259725904658554,
          0.07259725904658554,
          0.07259725904658554,
          0.07259725904658554,
          0.07259725904658554,
          0.07259725904658554,
          0.07259725904658554,
          0.07259725904658554,
          0.07259725904658554,
          0.07259725904658554,
          0.07259725904658554,
          0.07259725904658554,
          0.07259725904658554,
          0.07259725904658554,
          0.07259725904658554,
          0.07259725904658554,
          0.07259725904658554,
          0.07259725904658554,
          0.07259725904658554,
          0.07259725904658554,
          0.07259725904658554
         ]
        },
        {
         "marker": {
          "color": "#cccccc"
         },
         "mode": "markers",
         "name": "Infeasible Trial",
         "showlegend": false,
         "type": "scatter",
         "x": [],
         "y": []
        }
       ],
       "layout": {
        "template": {
         "data": {
          "bar": [
           {
            "error_x": {
             "color": "#2a3f5f"
            },
            "error_y": {
             "color": "#2a3f5f"
            },
            "marker": {
             "line": {
              "color": "#E5ECF6",
              "width": 0.5
             },
             "pattern": {
              "fillmode": "overlay",
              "size": 10,
              "solidity": 0.2
             }
            },
            "type": "bar"
           }
          ],
          "barpolar": [
           {
            "marker": {
             "line": {
              "color": "#E5ECF6",
              "width": 0.5
             },
             "pattern": {
              "fillmode": "overlay",
              "size": 10,
              "solidity": 0.2
             }
            },
            "type": "barpolar"
           }
          ],
          "carpet": [
           {
            "aaxis": {
             "endlinecolor": "#2a3f5f",
             "gridcolor": "white",
             "linecolor": "white",
             "minorgridcolor": "white",
             "startlinecolor": "#2a3f5f"
            },
            "baxis": {
             "endlinecolor": "#2a3f5f",
             "gridcolor": "white",
             "linecolor": "white",
             "minorgridcolor": "white",
             "startlinecolor": "#2a3f5f"
            },
            "type": "carpet"
           }
          ],
          "choropleth": [
           {
            "colorbar": {
             "outlinewidth": 0,
             "ticks": ""
            },
            "type": "choropleth"
           }
          ],
          "contour": [
           {
            "colorbar": {
             "outlinewidth": 0,
             "ticks": ""
            },
            "colorscale": [
             [
              0,
              "#0d0887"
             ],
             [
              0.1111111111111111,
              "#46039f"
             ],
             [
              0.2222222222222222,
              "#7201a8"
             ],
             [
              0.3333333333333333,
              "#9c179e"
             ],
             [
              0.4444444444444444,
              "#bd3786"
             ],
             [
              0.5555555555555556,
              "#d8576b"
             ],
             [
              0.6666666666666666,
              "#ed7953"
             ],
             [
              0.7777777777777778,
              "#fb9f3a"
             ],
             [
              0.8888888888888888,
              "#fdca26"
             ],
             [
              1,
              "#f0f921"
             ]
            ],
            "type": "contour"
           }
          ],
          "contourcarpet": [
           {
            "colorbar": {
             "outlinewidth": 0,
             "ticks": ""
            },
            "type": "contourcarpet"
           }
          ],
          "heatmap": [
           {
            "colorbar": {
             "outlinewidth": 0,
             "ticks": ""
            },
            "colorscale": [
             [
              0,
              "#0d0887"
             ],
             [
              0.1111111111111111,
              "#46039f"
             ],
             [
              0.2222222222222222,
              "#7201a8"
             ],
             [
              0.3333333333333333,
              "#9c179e"
             ],
             [
              0.4444444444444444,
              "#bd3786"
             ],
             [
              0.5555555555555556,
              "#d8576b"
             ],
             [
              0.6666666666666666,
              "#ed7953"
             ],
             [
              0.7777777777777778,
              "#fb9f3a"
             ],
             [
              0.8888888888888888,
              "#fdca26"
             ],
             [
              1,
              "#f0f921"
             ]
            ],
            "type": "heatmap"
           }
          ],
          "histogram": [
           {
            "marker": {
             "pattern": {
              "fillmode": "overlay",
              "size": 10,
              "solidity": 0.2
             }
            },
            "type": "histogram"
           }
          ],
          "histogram2d": [
           {
            "colorbar": {
             "outlinewidth": 0,
             "ticks": ""
            },
            "colorscale": [
             [
              0,
              "#0d0887"
             ],
             [
              0.1111111111111111,
              "#46039f"
             ],
             [
              0.2222222222222222,
              "#7201a8"
             ],
             [
              0.3333333333333333,
              "#9c179e"
             ],
             [
              0.4444444444444444,
              "#bd3786"
             ],
             [
              0.5555555555555556,
              "#d8576b"
             ],
             [
              0.6666666666666666,
              "#ed7953"
             ],
             [
              0.7777777777777778,
              "#fb9f3a"
             ],
             [
              0.8888888888888888,
              "#fdca26"
             ],
             [
              1,
              "#f0f921"
             ]
            ],
            "type": "histogram2d"
           }
          ],
          "histogram2dcontour": [
           {
            "colorbar": {
             "outlinewidth": 0,
             "ticks": ""
            },
            "colorscale": [
             [
              0,
              "#0d0887"
             ],
             [
              0.1111111111111111,
              "#46039f"
             ],
             [
              0.2222222222222222,
              "#7201a8"
             ],
             [
              0.3333333333333333,
              "#9c179e"
             ],
             [
              0.4444444444444444,
              "#bd3786"
             ],
             [
              0.5555555555555556,
              "#d8576b"
             ],
             [
              0.6666666666666666,
              "#ed7953"
             ],
             [
              0.7777777777777778,
              "#fb9f3a"
             ],
             [
              0.8888888888888888,
              "#fdca26"
             ],
             [
              1,
              "#f0f921"
             ]
            ],
            "type": "histogram2dcontour"
           }
          ],
          "mesh3d": [
           {
            "colorbar": {
             "outlinewidth": 0,
             "ticks": ""
            },
            "type": "mesh3d"
           }
          ],
          "parcoords": [
           {
            "line": {
             "colorbar": {
              "outlinewidth": 0,
              "ticks": ""
             }
            },
            "type": "parcoords"
           }
          ],
          "pie": [
           {
            "automargin": true,
            "type": "pie"
           }
          ],
          "scatter": [
           {
            "fillpattern": {
             "fillmode": "overlay",
             "size": 10,
             "solidity": 0.2
            },
            "type": "scatter"
           }
          ],
          "scatter3d": [
           {
            "line": {
             "colorbar": {
              "outlinewidth": 0,
              "ticks": ""
             }
            },
            "marker": {
             "colorbar": {
              "outlinewidth": 0,
              "ticks": ""
             }
            },
            "type": "scatter3d"
           }
          ],
          "scattercarpet": [
           {
            "marker": {
             "colorbar": {
              "outlinewidth": 0,
              "ticks": ""
             }
            },
            "type": "scattercarpet"
           }
          ],
          "scattergeo": [
           {
            "marker": {
             "colorbar": {
              "outlinewidth": 0,
              "ticks": ""
             }
            },
            "type": "scattergeo"
           }
          ],
          "scattergl": [
           {
            "marker": {
             "colorbar": {
              "outlinewidth": 0,
              "ticks": ""
             }
            },
            "type": "scattergl"
           }
          ],
          "scattermap": [
           {
            "marker": {
             "colorbar": {
              "outlinewidth": 0,
              "ticks": ""
             }
            },
            "type": "scattermap"
           }
          ],
          "scattermapbox": [
           {
            "marker": {
             "colorbar": {
              "outlinewidth": 0,
              "ticks": ""
             }
            },
            "type": "scattermapbox"
           }
          ],
          "scatterpolar": [
           {
            "marker": {
             "colorbar": {
              "outlinewidth": 0,
              "ticks": ""
             }
            },
            "type": "scatterpolar"
           }
          ],
          "scatterpolargl": [
           {
            "marker": {
             "colorbar": {
              "outlinewidth": 0,
              "ticks": ""
             }
            },
            "type": "scatterpolargl"
           }
          ],
          "scatterternary": [
           {
            "marker": {
             "colorbar": {
              "outlinewidth": 0,
              "ticks": ""
             }
            },
            "type": "scatterternary"
           }
          ],
          "surface": [
           {
            "colorbar": {
             "outlinewidth": 0,
             "ticks": ""
            },
            "colorscale": [
             [
              0,
              "#0d0887"
             ],
             [
              0.1111111111111111,
              "#46039f"
             ],
             [
              0.2222222222222222,
              "#7201a8"
             ],
             [
              0.3333333333333333,
              "#9c179e"
             ],
             [
              0.4444444444444444,
              "#bd3786"
             ],
             [
              0.5555555555555556,
              "#d8576b"
             ],
             [
              0.6666666666666666,
              "#ed7953"
             ],
             [
              0.7777777777777778,
              "#fb9f3a"
             ],
             [
              0.8888888888888888,
              "#fdca26"
             ],
             [
              1,
              "#f0f921"
             ]
            ],
            "type": "surface"
           }
          ],
          "table": [
           {
            "cells": {
             "fill": {
              "color": "#EBF0F8"
             },
             "line": {
              "color": "white"
             }
            },
            "header": {
             "fill": {
              "color": "#C8D4E3"
             },
             "line": {
              "color": "white"
             }
            },
            "type": "table"
           }
          ]
         },
         "layout": {
          "annotationdefaults": {
           "arrowcolor": "#2a3f5f",
           "arrowhead": 0,
           "arrowwidth": 1
          },
          "autotypenumbers": "strict",
          "coloraxis": {
           "colorbar": {
            "outlinewidth": 0,
            "ticks": ""
           }
          },
          "colorscale": {
           "diverging": [
            [
             0,
             "#8e0152"
            ],
            [
             0.1,
             "#c51b7d"
            ],
            [
             0.2,
             "#de77ae"
            ],
            [
             0.3,
             "#f1b6da"
            ],
            [
             0.4,
             "#fde0ef"
            ],
            [
             0.5,
             "#f7f7f7"
            ],
            [
             0.6,
             "#e6f5d0"
            ],
            [
             0.7,
             "#b8e186"
            ],
            [
             0.8,
             "#7fbc41"
            ],
            [
             0.9,
             "#4d9221"
            ],
            [
             1,
             "#276419"
            ]
           ],
           "sequential": [
            [
             0,
             "#0d0887"
            ],
            [
             0.1111111111111111,
             "#46039f"
            ],
            [
             0.2222222222222222,
             "#7201a8"
            ],
            [
             0.3333333333333333,
             "#9c179e"
            ],
            [
             0.4444444444444444,
             "#bd3786"
            ],
            [
             0.5555555555555556,
             "#d8576b"
            ],
            [
             0.6666666666666666,
             "#ed7953"
            ],
            [
             0.7777777777777778,
             "#fb9f3a"
            ],
            [
             0.8888888888888888,
             "#fdca26"
            ],
            [
             1,
             "#f0f921"
            ]
           ],
           "sequentialminus": [
            [
             0,
             "#0d0887"
            ],
            [
             0.1111111111111111,
             "#46039f"
            ],
            [
             0.2222222222222222,
             "#7201a8"
            ],
            [
             0.3333333333333333,
             "#9c179e"
            ],
            [
             0.4444444444444444,
             "#bd3786"
            ],
            [
             0.5555555555555556,
             "#d8576b"
            ],
            [
             0.6666666666666666,
             "#ed7953"
            ],
            [
             0.7777777777777778,
             "#fb9f3a"
            ],
            [
             0.8888888888888888,
             "#fdca26"
            ],
            [
             1,
             "#f0f921"
            ]
           ]
          },
          "colorway": [
           "#636efa",
           "#EF553B",
           "#00cc96",
           "#ab63fa",
           "#FFA15A",
           "#19d3f3",
           "#FF6692",
           "#B6E880",
           "#FF97FF",
           "#FECB52"
          ],
          "font": {
           "color": "#2a3f5f"
          },
          "geo": {
           "bgcolor": "white",
           "lakecolor": "white",
           "landcolor": "#E5ECF6",
           "showlakes": true,
           "showland": true,
           "subunitcolor": "white"
          },
          "hoverlabel": {
           "align": "left"
          },
          "hovermode": "closest",
          "mapbox": {
           "style": "light"
          },
          "paper_bgcolor": "white",
          "plot_bgcolor": "#E5ECF6",
          "polar": {
           "angularaxis": {
            "gridcolor": "white",
            "linecolor": "white",
            "ticks": ""
           },
           "bgcolor": "#E5ECF6",
           "radialaxis": {
            "gridcolor": "white",
            "linecolor": "white",
            "ticks": ""
           }
          },
          "scene": {
           "xaxis": {
            "backgroundcolor": "#E5ECF6",
            "gridcolor": "white",
            "gridwidth": 2,
            "linecolor": "white",
            "showbackground": true,
            "ticks": "",
            "zerolinecolor": "white"
           },
           "yaxis": {
            "backgroundcolor": "#E5ECF6",
            "gridcolor": "white",
            "gridwidth": 2,
            "linecolor": "white",
            "showbackground": true,
            "ticks": "",
            "zerolinecolor": "white"
           },
           "zaxis": {
            "backgroundcolor": "#E5ECF6",
            "gridcolor": "white",
            "gridwidth": 2,
            "linecolor": "white",
            "showbackground": true,
            "ticks": "",
            "zerolinecolor": "white"
           }
          },
          "shapedefaults": {
           "line": {
            "color": "#2a3f5f"
           }
          },
          "ternary": {
           "aaxis": {
            "gridcolor": "white",
            "linecolor": "white",
            "ticks": ""
           },
           "baxis": {
            "gridcolor": "white",
            "linecolor": "white",
            "ticks": ""
           },
           "bgcolor": "#E5ECF6",
           "caxis": {
            "gridcolor": "white",
            "linecolor": "white",
            "ticks": ""
           }
          },
          "title": {
           "x": 0.05
          },
          "xaxis": {
           "automargin": true,
           "gridcolor": "white",
           "linecolor": "white",
           "ticks": "",
           "title": {
            "standoff": 15
           },
           "zerolinecolor": "white",
           "zerolinewidth": 2
          },
          "yaxis": {
           "automargin": true,
           "gridcolor": "white",
           "linecolor": "white",
           "ticks": "",
           "title": {
            "standoff": 15
           },
           "zerolinecolor": "white",
           "zerolinewidth": 2
          }
         }
        },
        "title": {
         "text": "Optimization History Plot"
        },
        "xaxis": {
         "title": {
          "text": "Trial"
         }
        },
        "yaxis": {
         "title": {
          "text": "Objective Value"
         },
         "type": "log"
        }
       }
      }
     },
     "metadata": {},
     "output_type": "display_data"
    }
   ],
   "source": [
    "import optuna\n",
    "\n",
    "fig = optuna.visualization.plot_optimization_history(study)\n",
    "fig.update_yaxes(type='log')\n"
   ]
  }
 ],
 "metadata": {
  "kernelspec": {
   "display_name": "krc",
   "language": "python",
   "name": "python3"
  },
  "language_info": {
   "codemirror_mode": {
    "name": "ipython",
    "version": 3
   },
   "file_extension": ".py",
   "mimetype": "text/x-python",
   "name": "python",
   "nbconvert_exporter": "python",
   "pygments_lexer": "ipython3",
   "version": "3.10.15"
  }
 },
 "nbformat": 4,
 "nbformat_minor": 5
}
